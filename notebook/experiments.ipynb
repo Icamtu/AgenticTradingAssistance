{
 "cells": [
  {
   "cell_type": "code",
   "execution_count": 2,
   "id": "283d3a37",
   "metadata": {},
   "outputs": [],
   "source": [
    "import os\n",
    "import sys\n"
   ]
  },
  {
   "cell_type": "code",
   "execution_count": 1,
   "id": "44b81f5b",
   "metadata": {},
   "outputs": [],
   "source": [
    "class Aclass:\n",
    "    def __init__(self):\n",
    "        print(\"Aclass.__init__()\")\n",
    "    \n",
    "    def __str__(self):\n",
    "        return \"Aclass.__str__()\"\n",
    "    def __repr__(self):\n",
    "        return \"Aclass.__repr__()\""
   ]
  },
  {
   "cell_type": "code",
   "execution_count": 3,
   "id": "f5f55e98",
   "metadata": {},
   "outputs": [
    {
     "name": "stdout",
     "output_type": "stream",
     "text": [
      "Aclass.__init__()\n"
     ]
    }
   ],
   "source": [
    "obj=Aclass()"
   ]
  },
  {
   "cell_type": "code",
   "execution_count": 5,
   "id": "86dc4b71",
   "metadata": {},
   "outputs": [
    {
     "name": "stdout",
     "output_type": "stream",
     "text": [
      "Aclass.__str__()\n"
     ]
    }
   ],
   "source": [
    "print(obj)"
   ]
  },
  {
   "cell_type": "code",
   "execution_count": 4,
   "id": "ecfe4416",
   "metadata": {},
   "outputs": [
    {
     "data": {
      "text/plain": [
       "Aclass.__repr__()"
      ]
     },
     "execution_count": 4,
     "metadata": {},
     "output_type": "execute_result"
    }
   ],
   "source": [
    "obj"
   ]
  },
  {
   "cell_type": "code",
   "execution_count": null,
   "id": "1df58863",
   "metadata": {},
   "outputs": [],
   "source": [
    "class TradingException(Exception):\n",
    "    \"\"\"Base class for all trading-related exceptions.\"\"\"\n",
    "    def __init__(self,error_message,error_deails:sys):\n",
    "        self.error_message=error_message\n",
    "        _,_,exc_tb=error_deails.exc_info()\n",
    "\n",
    "        self.lineno=exc_tb.tb_lineno\n",
    "        self.filename=exc_tb.tb_frame.f_code.co_filename\n",
    "\n",
    "    def __str__(self):\n",
    "        return \"Error occured in python script name [{0}] line number [{1}] error message [{2}]\".format(\n",
    "            self.filename,self.lineno,str(self.error_message)\n",
    "        )\n"
   ]
  },
  {
   "cell_type": "code",
   "execution_count": 6,
   "id": "d0dff1ed",
   "metadata": {},
   "outputs": [],
   "source": [
    "import os\n",
    "from langchain.tools import tool\n",
    "from langchain_community.tools import TavilySearchResults\n",
    "from langchain_community.tools.polygon.financials import PolygonFinancials\n",
    "from langchain_community.utilities.polygon import PolygonAPIWrapper\n",
    "from langchain_community.agent_toolkits.polygon.toolkit import PolygonToolkit\n",
    "from langchain_community.tools.bing_search import BingSearchResults \n",
    "from data_models.models import RagToolSchema\n",
    "from langchain_pinecone import PineconeVectorStore\n",
    "from utils.model_loader import ModelLoader\n",
    "from utils.config_loader import load_config\n",
    "from dotenv import load_dotenv\n",
    "from pinecone import Pinecone\n",
    "import streamlit as st"
   ]
  },
  {
   "cell_type": "code",
   "execution_count": 9,
   "id": "015dd0b3",
   "metadata": {},
   "outputs": [],
   "source": [
    "load_dotenv()\n",
    "\n",
    "api_wrapper = PolygonAPIWrapper()"
   ]
  },
  {
   "cell_type": "code",
   "execution_count": 37,
   "id": "45cca805",
   "metadata": {},
   "outputs": [
    {
     "data": {
      "text/plain": [
       "'pp4WVnnLM0ef9OlWPG1kd3x_GCzIGUf7'"
      ]
     },
     "execution_count": 37,
     "metadata": {},
     "output_type": "execute_result"
    }
   ],
   "source": [
    "api_key = os.getenv(\"POLYGON_API_KEY\")\n",
    "api_key"
   ]
  },
  {
   "cell_type": "code",
   "execution_count": 12,
   "id": "c6ae5db1",
   "metadata": {},
   "outputs": [],
   "source": [
    "from langchain_community.agent_toolkits.polygon.toolkit import PolygonToolkit\n",
    "from langchain_community.utilities.polygon import PolygonAPIWrapper\n",
    "\n",
    "polygon = PolygonAPIWrapper()\n",
    "toolkit = PolygonToolkit.from_polygon_api_wrapper(polygon)"
   ]
  },
  {
   "cell_type": "code",
   "execution_count": 13,
   "id": "e9655457",
   "metadata": {},
   "outputs": [
    {
     "data": {
      "text/plain": [
       "[PolygonAggregates(api_wrapper=PolygonAPIWrapper(polygon_api_key='pp4WVnnLM0ef9OlWPG1kd3x_GCzIGUf7')),\n",
       " PolygonLastQuote(api_wrapper=PolygonAPIWrapper(polygon_api_key='pp4WVnnLM0ef9OlWPG1kd3x_GCzIGUf7')),\n",
       " PolygonTickerNews(api_wrapper=PolygonAPIWrapper(polygon_api_key='pp4WVnnLM0ef9OlWPG1kd3x_GCzIGUf7')),\n",
       " PolygonFinancials(api_wrapper=PolygonAPIWrapper(polygon_api_key='pp4WVnnLM0ef9OlWPG1kd3x_GCzIGUf7'))]"
      ]
     },
     "execution_count": 13,
     "metadata": {},
     "output_type": "execute_result"
    }
   ],
   "source": [
    "toolkit.get_tools()"
   ]
  },
  {
   "cell_type": "code",
   "execution_count": 24,
   "id": "84457e7f",
   "metadata": {},
   "outputs": [],
   "source": [
    "from langchain_google_genai import ChatGoogleGenerativeAI\n",
    "\n",
    "llm=ChatGoogleGenerativeAI(model=\"gemini-2.0-flash\")"
   ]
  },
  {
   "cell_type": "code",
   "execution_count": 25,
   "id": "ee1b0a75",
   "metadata": {},
   "outputs": [
    {
     "data": {
      "text/plain": [
       "AIMessage(content='Hi there! How can I help you today?', additional_kwargs={}, response_metadata={'prompt_feedback': {'block_reason': 0, 'safety_ratings': []}, 'finish_reason': 'STOP', 'model_name': 'gemini-2.0-flash', 'safety_ratings': []}, id='run--2678f7fd-4fe3-42f1-9e69-2546f5ea4783-0', usage_metadata={'input_tokens': 1, 'output_tokens': 11, 'total_tokens': 12, 'input_token_details': {'cache_read': 0}})"
      ]
     },
     "execution_count": 25,
     "metadata": {},
     "output_type": "execute_result"
    }
   ],
   "source": [
    "llm.invoke(\"hi\")"
   ]
  },
  {
   "cell_type": "code",
   "execution_count": 26,
   "id": "e3e10cfc",
   "metadata": {},
   "outputs": [],
   "source": [
    "tool=toolkit.get_tools()"
   ]
  },
  {
   "cell_type": "code",
   "execution_count": 43,
   "id": "46889e52",
   "metadata": {},
   "outputs": [
    {
     "data": {
      "text/plain": [
       "[PolygonAggregates(api_wrapper=PolygonAPIWrapper(polygon_api_key='pp4WVnnLM0ef9OlWPG1kd3x_GCzIGUf7')),\n",
       " PolygonLastQuote(api_wrapper=PolygonAPIWrapper(polygon_api_key='pp4WVnnLM0ef9OlWPG1kd3x_GCzIGUf7')),\n",
       " PolygonTickerNews(api_wrapper=PolygonAPIWrapper(polygon_api_key='pp4WVnnLM0ef9OlWPG1kd3x_GCzIGUf7')),\n",
       " PolygonFinancials(api_wrapper=PolygonAPIWrapper(polygon_api_key='pp4WVnnLM0ef9OlWPG1kd3x_GCzIGUf7'))]"
      ]
     },
     "execution_count": 43,
     "metadata": {},
     "output_type": "execute_result"
    }
   ],
   "source": [
    "tool"
   ]
  },
  {
   "cell_type": "code",
   "execution_count": 44,
   "id": "55d14514",
   "metadata": {},
   "outputs": [],
   "source": [
    "\n",
    "llm_with_tools = llm.bind_tools(tools=tool)\n",
    "\n"
   ]
  },
  {
   "cell_type": "code",
   "execution_count": 52,
   "id": "843a6d69",
   "metadata": {},
   "outputs": [
    {
     "data": {
      "text/plain": [
       "AIMessage(content='', additional_kwargs={'function_call': {'name': 'polygon_aggregates', 'arguments': '{\"timespan_multiplier\": 1.0, \"ticker\": \"GOOGL\", \"to_date\": \"2024-05-17\", \"from_date\": \"2024-05-13\", \"timespan\": \"day\"}'}}, response_metadata={'prompt_feedback': {'block_reason': 0, 'safety_ratings': []}, 'finish_reason': 'STOP', 'model_name': 'gemini-2.0-flash', 'safety_ratings': []}, id='run--80e13215-aafc-4b16-8585-53ace2282b8b-0', tool_calls=[{'name': 'polygon_aggregates', 'args': {'timespan_multiplier': 1.0, 'ticker': 'GOOGL', 'to_date': '2024-05-17', 'from_date': '2024-05-13', 'timespan': 'day'}, 'id': 'cc9b7729-b5b9-4480-b0f4-5366f6984f7b', 'type': 'tool_call'}], usage_metadata={'input_tokens': 408, 'output_tokens': 42, 'total_tokens': 450, 'input_token_details': {'cache_read': 0}})"
      ]
     },
     "execution_count": 52,
     "metadata": {},
     "output_type": "execute_result"
    }
   ],
   "source": [
    "llm_with_tools.invoke( \"fetch daily aggregates for GOOGL for last week\")"
   ]
  },
  {
   "cell_type": "code",
   "execution_count": 40,
   "id": "66e8b43f",
   "metadata": {},
   "outputs": [
    {
     "ename": "ImportError",
     "evalue": "cannot import name 'PolygonFinancialsTool' from 'langchain_community.tools.polygon.financials' (d:\\Desktop\\Research\\krish\\Projects\\AgenticTradingAssistance\\venv\\Lib\\site-packages\\langchain_community\\tools\\polygon\\financials.py)",
     "output_type": "error",
     "traceback": [
      "\u001b[1;31m---------------------------------------------------------------------------\u001b[0m",
      "\u001b[1;31mImportError\u001b[0m                               Traceback (most recent call last)",
      "Cell \u001b[1;32mIn[40], line 1\u001b[0m\n\u001b[1;32m----> 1\u001b[0m \u001b[38;5;28;01mfrom\u001b[39;00m \u001b[38;5;21;01mlangchain_community\u001b[39;00m\u001b[38;5;21;01m.\u001b[39;00m\u001b[38;5;21;01mtools\u001b[39;00m\u001b[38;5;21;01m.\u001b[39;00m\u001b[38;5;21;01mpolygon\u001b[39;00m\u001b[38;5;21;01m.\u001b[39;00m\u001b[38;5;21;01mfinancials\u001b[39;00m \u001b[38;5;28;01mimport\u001b[39;00m PolygonFinancialsTool\n\u001b[0;32m      2\u001b[0m financials_tool \u001b[38;5;241m=\u001b[39m PolygonFinancialsTool(polygon_api_key\u001b[38;5;241m=\u001b[39mapi_key)\n",
      "\u001b[1;31mImportError\u001b[0m: cannot import name 'PolygonFinancialsTool' from 'langchain_community.tools.polygon.financials' (d:\\Desktop\\Research\\krish\\Projects\\AgenticTradingAssistance\\venv\\Lib\\site-packages\\langchain_community\\tools\\polygon\\financials.py)"
     ]
    }
   ],
   "source": [
    "from langchain_community.tools.polygon.financials import PolygonFinancialsTool\n",
    "financials_tool = PolygonFinancialsTool(polygon_api_key=api_key)"
   ]
  },
  {
   "cell_type": "code",
   "execution_count": 42,
   "id": "cace250c",
   "metadata": {},
   "outputs": [
    {
     "name": "stdout",
     "output_type": "stream",
     "text": [
      "content='[{\"start_date\": \"2024-03-30\", \"end_date\": \"2025-03-29\", \"timeframe\": \"ttm\", \"fiscal_period\": \"TTM\", \"fiscal_year\": \"\", \"cik\": \"0000320193\", \"sic\": \"3571\", \"tickers\": [\"AAPL\"], \"company_name\": \"APPLE INC\", \"financials\": {\"balance_sheet\": {\"liabilities\": {\"value\": 264437000000.0, \"unit\": \"USD\", \"label\": \"Liabilities\", \"order\": 600}, \"fixed_assets\": {\"value\": 46876000000.0, \"unit\": \"USD\", \"label\": \"Fixed Assets\", \"order\": 320}, \"noncurrent_assets\": {\"value\": 212559000000.0, \"unit\": \"USD\", \"label\": \"Noncurrent Assets\", \"order\": 300}, \"accounts_payable\": {\"value\": 54126000000.0, \"unit\": \"USD\", \"label\": \"Accounts Payable\", \"order\": 710}, \"long_term_debt\": {\"value\": 92200000000.0, \"unit\": \"USD\", \"label\": \"Long-term Debt\", \"order\": 810}, \"noncurrent_liabilities\": {\"value\": 119866000000.0, \"unit\": \"USD\", \"label\": \"Noncurrent Liabilities\", \"order\": 800}, \"other_noncurrent_liabilities\": {\"value\": 27666000000.0, \"unit\": \"USD\", \"label\": \"Other Non-current Liabilities\", \"order\": 820}, \"liabilities_and_equity\": {\"value\": 331233000000.0, \"unit\": \"USD\", \"label\": \"Liabilities And Equity\", \"order\": 1900}, \"other_noncurrent_assets\": {\"value\": 165683000000.0, \"unit\": \"USD\", \"label\": \"Other Non-current Assets\", \"order\": 350}, \"current_assets\": {\"value\": 118674000000.0, \"unit\": \"USD\", \"label\": \"Current Assets\", \"order\": 200}, \"other_current_liabilities\": {\"value\": 90445000000.0, \"unit\": \"USD\", \"label\": \"Other Current Liabilities\", \"order\": 740}, \"equity_attributable_to_parent\": {\"value\": 66796000000.0, \"unit\": \"USD\", \"label\": \"Equity Attributable To Parent\", \"order\": 1600}, \"inventory\": {\"value\": 6269000000.0, \"unit\": \"USD\", \"label\": \"Inventory\", \"order\": 230}, \"other_current_assets\": {\"value\": 112405000000.0, \"unit\": \"USD\", \"label\": \"Other Current Assets\", \"order\": 250}, \"equity_attributable_to_noncontrolling_interest\": {\"value\": 0, \"unit\": \"USD\", \"label\": \"Equity Attributable To Noncontrolling Interest\", \"order\": 1500}, \"current_liabilities\": {\"value\": 144571000000.0, \"unit\": \"USD\", \"label\": \"Current Liabilities\", \"order\": 700}, \"equity\": {\"value\": 66796000000.0, \"unit\": \"USD\", \"label\": \"Equity\", \"order\": 1400}, \"assets\": {\"value\": 331233000000.0, \"unit\": \"USD\", \"label\": \"Assets\", \"order\": 100}}, \"income_statement\": {\"income_tax_expense_benefit\": {\"value\": 29704000000.0, \"unit\": \"USD\", \"label\": \"Income Tax Expense/Benefit\", \"order\": 2200}, \"net_income_loss\": {\"value\": 97294000000.0, \"unit\": \"USD\", \"label\": \"Net Income/Loss\", \"order\": 3200}, \"net_income_loss_attributable_to_parent\": {\"value\": 97294000000.0, \"unit\": \"USD\", \"label\": \"Net Income/Loss Attributable To Parent\", \"order\": 3500}, \"gross_profit\": {\"value\": 186699000000.0, \"unit\": \"USD\", \"label\": \"Gross Profit\", \"order\": 800}, \"research_and_development\": {\"value\": 32589000000.0, \"unit\": \"USD\", \"label\": \"Research and Development\", \"order\": 1030}, \"preferred_stock_dividends_and_other_adjustments\": {\"value\": 0, \"unit\": \"USD\", \"label\": \"Preferred Stock Dividends And Other Adjustments\", \"order\": 3900}, \"income_loss_from_continuing_operations_after_tax\": {\"value\": 97294000000.0, \"unit\": \"USD\", \"label\": \"Income/Loss From Continuing Operations After Tax\", \"order\": 1400}, \"nonoperating_income_loss\": {\"value\": -366000000.0, \"unit\": \"USD\", \"label\": \"Nonoperating Income/Loss\", \"order\": 900}, \"revenues\": {\"value\": 400366000000.0, \"unit\": \"USD\", \"label\": \"Revenues\", \"order\": 100}, \"diluted_average_shares\": {\"value\": 45500093000.0, \"unit\": \"shares\", \"label\": \"Diluted Average Shares\", \"order\": 4500}, \"basic_average_shares\": {\"value\": 45306063000.0, \"unit\": \"shares\", \"label\": \"Basic Average Shares\", \"order\": 4400}, \"benefits_costs_expenses\": {\"value\": 273368000000.0, \"unit\": \"USD\", \"label\": \"Benefits Costs and Expenses\", \"order\": 200}, \"basic_earnings_per_share\": {\"value\": 6.440000000000001, \"unit\": \"USD / shares\", \"label\": \"Basic Earnings Per Share\", \"order\": 4200}, \"net_income_loss_available_to_common_stockholders_basic\": {\"value\": 97294000000.0, \"unit\": \"USD\", \"label\": \"Net Income/Loss Available To Common Stockholders, Basic\", \"order\": 3700}, \"operating_income_loss\": {\"value\": 127364000000.0, \"unit\": \"USD\", \"label\": \"Operating Income/Loss\", \"order\": 1100}, \"net_income_loss_attributable_to_noncontrolling_interest\": {\"value\": 0, \"unit\": \"USD\", \"label\": \"Net Income/Loss Attributable To Noncontrolling Interest\", \"order\": 3300}, \"income_loss_from_continuing_operations_before_tax\": {\"value\": 126998000000.0, \"unit\": \"USD\", \"label\": \"Income/Loss From Continuing Operations Before Tax\", \"order\": 1500}, \"participating_securities_distributed_and_undistributed_earnings_loss_basic\": {\"value\": 0, \"unit\": \"USD\", \"label\": \"Participating Securities, Distributed And Undistributed Earnings/Loss, Basic\", \"order\": 3800}, \"selling_general_and_administrative_expenses\": {\"value\": 26746000000.0, \"unit\": \"USD\", \"label\": \"Selling, General, and Administrative Expenses\", \"order\": 1010}, \"diluted_earnings_per_share\": {\"value\": 6.42, \"unit\": \"USD / shares\", \"label\": \"Diluted Earnings Per Share\", \"order\": 4300}, \"costs_and_expenses\": {\"value\": 273368000000.0, \"unit\": \"USD\", \"label\": \"Costs And Expenses\", \"order\": 600}, \"cost_of_revenue\": {\"value\": 213667000000.0, \"unit\": \"USD\", \"label\": \"Cost Of Revenue\", \"order\": 300}, \"operating_expenses\": {\"value\": 59335000000.0, \"unit\": \"USD\", \"label\": \"Operating Expenses\", \"order\": 1000}}, \"comprehensive_income\": {\"comprehensive_income_loss_attributable_to_noncontrolling_interest\": {\"value\": 0, \"unit\": \"USD\", \"label\": \"Comprehensive Income/Loss Attributable To Noncontrolling Interest\", \"order\": 200}, \"other_comprehensive_income_loss\": {\"value\": 99891000000.0, \"unit\": \"USD\", \"label\": \"Other Comprehensive Income/Loss\", \"order\": 400}, \"other_comprehensive_income_loss_attributable_to_parent\": {\"value\": 2597000000.0, \"unit\": \"USD\", \"label\": \"Other Comprehensive Income/Loss Attributable To Parent\", \"order\": 600}, \"comprehensive_income_loss\": {\"value\": 99891000000.0, \"unit\": \"USD\", \"label\": \"Comprehensive Income/Loss\", \"order\": 100}, \"comprehensive_income_loss_attributable_to_parent\": {\"value\": 99891000000.0, \"unit\": \"USD\", \"label\": \"Comprehensive Income/Loss Attributable To Parent\", \"order\": 300}}, \"cash_flow_statement\": {\"net_cash_flow_from_operating_activities_continuing\": {\"value\": 109556000000.0, \"unit\": \"USD\", \"label\": \"Net Cash Flow From Operating Activities, Continuing\", \"order\": 200}, \"net_cash_flow_from_operating_activities\": {\"value\": 109556000000.0, \"unit\": \"USD\", \"label\": \"Net Cash Flow From Operating Activities\", \"order\": 100}, \"net_cash_flow\": {\"value\": -5759000000.0, \"unit\": \"USD\", \"label\": \"Net Cash Flow\", \"order\": 1100}, \"net_cash_flow_from_investing_activities_continuing\": {\"value\": 14027000000.0, \"unit\": \"USD\", \"label\": \"Net Cash Flow From Investing Activities, Continuing\", \"order\": 500}, \"net_cash_flow_continuing\": {\"value\": -5759000000.0, \"unit\": \"USD\", \"label\": \"Net Cash Flow, Continuing\", \"order\": 1200}, \"net_cash_flow_from_financing_activities\": {\"value\": -129342000000.0, \"unit\": \"USD\", \"label\": \"Net Cash Flow From Financing Activities\", \"order\": 700}, \"net_cash_flow_from_financing_activities_continuing\": {\"value\": -129342000000.0, \"unit\": \"USD\", \"label\": \"Net Cash Flow From Financing Activities, Continuing\", \"order\": 800}, \"net_cash_flow_from_investing_activities\": {\"value\": 14027000000.0, \"unit\": \"USD\", \"label\": \"Net Cash Flow From Investing Activities\", \"order\": 400}}}}, {\"start_date\": \"2024-12-29\", \"end_date\": \"2025-03-29\", \"filing_date\": \"2025-05-02\", \"acceptance_datetime\": \"2025-05-02T10:00:46Z\", \"timeframe\": \"quarterly\", \"fiscal_period\": \"Q2\", \"fiscal_year\": \"2025\", \"cik\": \"0000320193\", \"sic\": \"3571\", \"tickers\": [\"AAPL\"], \"company_name\": \"Apple Inc.\", \"source_filing_url\": \"https://api.polygon.io/v1/reference/sec/filings/0000320193-25-000057\", \"source_filing_file_url\": \"http://api.polygon.io/v1/reference/sec/filings/0000320193-25-000057/files/aapl-20250329_htm.xml\", \"financials\": {\"comprehensive_income\": {\"comprehensive_income_loss_attributable_to_parent\": {\"value\": 25206000000.0, \"unit\": \"USD\", \"label\": \"Comprehensive Income/Loss Attributable To Parent\", \"order\": 300}, \"other_comprehensive_income_loss_attributable_to_parent\": {\"value\": 426000000.0, \"unit\": \"USD\", \"label\": \"Other Comprehensive Income/Loss Attributable To Parent\", \"order\": 600}, \"other_comprehensive_income_loss\": {\"value\": 25206000000.0, \"unit\": \"USD\", \"label\": \"Other Comprehensive Income/Loss\", \"order\": 400}, \"comprehensive_income_loss_attributable_to_noncontrolling_interest\": {\"value\": 0, \"unit\": \"USD\", \"label\": \"Comprehensive Income/Loss Attributable To Noncontrolling Interest\", \"order\": 200}, \"comprehensive_income_loss\": {\"value\": 25206000000.0, \"unit\": \"USD\", \"label\": \"Comprehensive Income/Loss\", \"order\": 100}}, \"income_statement\": {\"diluted_earnings_per_share\": {\"value\": 1.65, \"unit\": \"USD / shares\", \"label\": \"Diluted Earnings Per Share\", \"order\": 4300}, \"income_loss_from_continuing_operations_after_tax\": {\"value\": 24780000000.0, \"unit\": \"USD\", \"label\": \"Income/Loss From Continuing Operations After Tax\", \"order\": 1400}, \"operating_income_loss\": {\"value\": 29589000000.0, \"unit\": \"USD\", \"label\": \"Operating Income/Loss\", \"order\": 1100}, \"basic_earnings_per_share\": {\"value\": 1.65, \"unit\": \"USD / shares\", \"label\": \"Basic Earnings Per Share\", \"order\": 4200}, \"income_tax_expense_benefit\": {\"value\": 4530000000.0, \"unit\": \"USD\", \"label\": \"Income Tax Expense/Benefit\", \"order\": 2200}, \"revenues\": {\"value\": 95359000000.0, \"unit\": \"USD\", \"label\": \"Revenues\", \"order\": 100}, \"basic_average_shares\": {\"value\": 14994082000.0, \"unit\": \"shares\", \"label\": \"Basic Average Shares\", \"order\": 4400}, \"cost_of_revenue\": {\"value\": 50492000000.0, \"unit\": \"USD\", \"label\": \"Cost Of Revenue\", \"order\": 300}, \"benefits_costs_expenses\": {\"value\": 66049000000.0, \"unit\": \"USD\", \"label\": \"Benefits Costs and Expenses\", \"order\": 200}, \"preferred_stock_dividends_and_other_adjustments\": {\"value\": 0, \"unit\": \"USD\", \"label\": \"Preferred Stock Dividends And Other Adjustments\", \"order\": 3900}, \"nonoperating_income_loss\": {\"value\": -279000000.0, \"unit\": \"USD\", \"label\": \"Nonoperating Income/Loss\", \"order\": 900}, \"diluted_average_shares\": {\"value\": 15056133000.0, \"unit\": \"shares\", \"label\": \"Diluted Average Shares\", \"order\": 4500}, \"selling_general_and_administrative_expenses\": {\"value\": 6728000000.0, \"unit\": \"USD\", \"label\": \"Selling, General, and Administrative Expenses\", \"order\": 1010}, \"net_income_loss\": {\"value\": 24780000000.0, \"unit\": \"USD\", \"label\": \"Net Income/Loss\", \"order\": 3200}, \"gross_profit\": {\"value\": 44867000000.0, \"unit\": \"USD\", \"label\": \"Gross Profit\", \"order\": 800}, \"net_income_loss_attributable_to_parent\": {\"value\": 24780000000.0, \"unit\": \"USD\", \"label\": \"Net Income/Loss Attributable To Parent\", \"order\": 3500}, \"income_loss_from_continuing_operations_before_tax\": {\"value\": 29310000000.0, \"unit\": \"USD\", \"label\": \"Income/Loss From Continuing Operations Before Tax\", \"order\": 1500}, \"net_income_loss_available_to_common_stockholders_basic\": {\"value\": 24780000000.0, \"unit\": \"USD\", \"label\": \"Net Income/Loss Available To Common Stockholders, Basic\", \"order\": 3700}, \"costs_and_expenses\": {\"value\": 66049000000.0, \"unit\": \"USD\", \"label\": \"Costs And Expenses\", \"order\": 600}, \"research_and_development\": {\"value\": 8550000000.0, \"unit\": \"USD\", \"label\": \"Research and Development\", \"order\": 1030}, \"net_income_loss_attributable_to_noncontrolling_interest\": {\"value\": 0, \"unit\": \"USD\", \"label\": \"Net Income/Loss Attributable To Noncontrolling Interest\", \"order\": 3300}, \"participating_securities_distributed_and_undistributed_earnings_loss_basic\": {\"value\": 0, \"unit\": \"USD\", \"label\": \"Participating Securities, Distributed And Undistributed Earnings/Loss, Basic\", \"order\": 3800}, \"operating_expenses\": {\"value\": 15278000000.0, \"unit\": \"USD\", \"label\": \"Operating Expenses\", \"order\": 1000}}, \"balance_sheet\": {\"other_current_liabilities\": {\"value\": 90445000000.0, \"unit\": \"USD\", \"label\": \"Other Current Liabilities\", \"order\": 740}, \"accounts_payable\": {\"value\": 54126000000.0, \"unit\": \"USD\", \"label\": \"Accounts Payable\", \"order\": 710}, \"inventory\": {\"value\": 6269000000.0, \"unit\": \"USD\", \"label\": \"Inventory\", \"order\": 230}, \"noncurrent_assets\": {\"value\": 212559000000.0, \"unit\": \"USD\", \"label\": \"Noncurrent Assets\", \"order\": 300}, \"noncurrent_liabilities\": {\"value\": 119866000000.0, \"unit\": \"USD\", \"label\": \"Noncurrent Liabilities\", \"order\": 800}, \"long_term_debt\": {\"value\": 92200000000.0, \"unit\": \"USD\", \"label\": \"Long-term Debt\", \"order\": 810}, \"current_liabilities\": {\"value\": 144571000000.0, \"unit\": \"USD\", \"label\": \"Current Liabilities\", \"order\": 700}, \"current_assets\": {\"value\": 118674000000.0, \"unit\": \"USD\", \"label\": \"Current Assets\", \"order\": 200}, \"equity_attributable_to_parent\": {\"value\": 66796000000.0, \"unit\": \"USD\", \"label\": \"Equity Attributable To Parent\", \"order\": 1600}, \"fixed_assets\": {\"value\": 46876000000.0, \"unit\": \"USD\", \"label\": \"Fixed Assets\", \"order\": 320}, \"assets\": {\"value\": 331233000000.0, \"unit\": \"USD\", \"label\": \"Assets\", \"order\": 100}, \"liabilities\": {\"value\": 264437000000.0, \"unit\": \"USD\", \"label\": \"Liabilities\", \"order\": 600}, \"other_noncurrent_assets\": {\"value\": 165683000000.0, \"unit\": \"USD\", \"label\": \"Other Non-current Assets\", \"order\": 350}, \"equity\": {\"value\": 66796000000.0, \"unit\": \"USD\", \"label\": \"Equity\", \"order\": 1400}, \"equity_attributable_to_noncontrolling_interest\": {\"value\": 0, \"unit\": \"USD\", \"label\": \"Equity Attributable To Noncontrolling Interest\", \"order\": 1500}, \"other_noncurrent_liabilities\": {\"value\": 27666000000.0, \"unit\": \"USD\", \"label\": \"Other Non-current Liabilities\", \"order\": 820}, \"liabilities_and_equity\": {\"value\": 331233000000.0, \"unit\": \"USD\", \"label\": \"Liabilities And Equity\", \"order\": 1900}, \"other_current_assets\": {\"value\": 112405000000.0, \"unit\": \"USD\", \"label\": \"Other Current Assets\", \"order\": 250}}, \"cash_flow_statement\": {\"net_cash_flow_from_operating_activities\": {\"value\": 23952000000.0, \"unit\": \"USD\", \"label\": \"Net Cash Flow From Operating Activities\", \"order\": 100}, \"net_cash_flow_continuing\": {\"value\": -2137000000.0, \"unit\": \"USD\", \"label\": \"Net Cash Flow, Continuing\", \"order\": 1200}, \"net_cash_flow_from_investing_activities\": {\"value\": 2917000000.0, \"unit\": \"USD\", \"label\": \"Net Cash Flow From Investing Activities\", \"order\": 400}, \"net_cash_flow_from_financing_activities\": {\"value\": -29006000000.0, \"unit\": \"USD\", \"label\": \"Net Cash Flow From Financing Activities\", \"order\": 700}, \"net_cash_flow\": {\"value\": -2137000000.0, \"unit\": \"USD\", \"label\": \"Net Cash Flow\", \"order\": 1100}, \"net_cash_flow_from_operating_activities_continuing\": {\"value\": 23952000000.0, \"unit\": \"USD\", \"label\": \"Net Cash Flow From Operating Activities, Continuing\", \"order\": 200}, \"net_cash_flow_from_financing_activities_continuing\": {\"value\": -29006000000.0, \"unit\": \"USD\", \"label\": \"Net Cash Flow From Financing Activities, Continuing\", \"order\": 800}, \"net_cash_flow_from_investing_activities_continuing\": {\"value\": 2917000000.0, \"unit\": \"USD\", \"label\": \"Net Cash Flow From Investing Activities, Continuing\", \"order\": 500}}}}, {\"start_date\": \"2024-09-29\", \"end_date\": \"2024-12-28\", \"filing_date\": \"2025-01-31\", \"acceptance_datetime\": \"2025-01-31T11:01:27Z\", \"timeframe\": \"quarterly\", \"fiscal_period\": \"Q1\", \"fiscal_year\": \"2025\", \"cik\": \"0000320193\", \"sic\": \"3571\", \"tickers\": [\"AAPL\"], \"company_name\": \"Apple Inc.\", \"source_filing_url\": \"https://api.polygon.io/v1/reference/sec/filings/0000320193-25-000008\", \"source_filing_file_url\": \"http://api.polygon.io/v1/reference/sec/filings/0000320193-25-000008/files/aapl-20241228_htm.xml\", \"financials\": {\"balance_sheet\": {\"inventory\": {\"value\": 6911000000.0, \"unit\": \"USD\", \"label\": \"Inventory\", \"order\": 230}, \"accounts_payable\": {\"value\": 61910000000.0, \"unit\": \"USD\", \"label\": \"Accounts Payable\", \"order\": 710}, \"liabilities_and_equity\": {\"value\": 344085000000.0, \"unit\": \"USD\", \"label\": \"Liabilities And Equity\", \"order\": 1900}, \"liabilities\": {\"value\": 277327000000.0, \"unit\": \"USD\", \"label\": \"Liabilities\", \"order\": 600}, \"long_term_debt\": {\"value\": 94800000000.0, \"unit\": \"USD\", \"label\": \"Long-term Debt\", \"order\": 810}, \"fixed_assets\": {\"value\": 46069000000.0, \"unit\": \"USD\", \"label\": \"Fixed Assets\", \"order\": 320}, \"current_assets\": {\"value\": 133240000000.0, \"unit\": \"USD\", \"label\": \"Current Assets\", \"order\": 200}, \"equity_attributable_to_parent\": {\"value\": 66758000000.0, \"unit\": \"USD\", \"label\": \"Equity Attributable To Parent\", \"order\": 1600}, \"other_current_liabilities\": {\"value\": 82455000000.0, \"unit\": \"USD\", \"label\": \"Other Current Liabilities\", \"order\": 740}, \"noncurrent_liabilities\": {\"value\": 132962000000.0, \"unit\": \"USD\", \"label\": \"Noncurrent Liabilities\", \"order\": 800}, \"current_liabilities\": {\"value\": 144365000000.0, \"unit\": \"USD\", \"label\": \"Current Liabilities\", \"order\": 700}, \"equity\": {\"value\": 66758000000.0, \"unit\": \"USD\", \"label\": \"Equity\", \"order\": 1400}, \"assets\": {\"value\": 344085000000.0, \"unit\": \"USD\", \"label\": \"Assets\", \"order\": 100}, \"other_noncurrent_liabilities\": {\"value\": 38162000000.0, \"unit\": \"USD\", \"label\": \"Other Non-current Liabilities\", \"order\": 820}, \"other_noncurrent_assets\": {\"value\": 164776000000.0, \"unit\": \"USD\", \"label\": \"Other Non-current Assets\", \"order\": 350}, \"noncurrent_assets\": {\"value\": 210845000000.0, \"unit\": \"USD\", \"label\": \"Noncurrent Assets\", \"order\": 300}, \"other_current_assets\": {\"value\": 126329000000.0, \"unit\": \"USD\", \"label\": \"Other Current Assets\", \"order\": 250}, \"equity_attributable_to_noncontrolling_interest\": {\"value\": 0, \"unit\": \"USD\", \"label\": \"Equity Attributable To Noncontrolling Interest\", \"order\": 1500}}, \"income_statement\": {\"revenues\": {\"value\": 124300000000.0, \"unit\": \"USD\", \"label\": \"Revenues\", \"order\": 100}, \"benefits_costs_expenses\": {\"value\": 81716000000.0, \"unit\": \"USD\", \"label\": \"Benefits Costs and Expenses\", \"order\": 200}, \"operating_expenses\": {\"value\": 15443000000.0, \"unit\": \"USD\", \"label\": \"Operating Expenses\", \"order\": 1000}, \"nonoperating_income_loss\": {\"value\": -248000000.0, \"unit\": \"USD\", \"label\": \"Nonoperating Income/Loss\", \"order\": 900}, \"income_loss_from_continuing_operations_before_tax\": {\"value\": 42584000000.0, \"unit\": \"USD\", \"label\": \"Income/Loss From Continuing Operations Before Tax\", \"order\": 1500}, \"operating_income_loss\": {\"value\": 42832000000.0, \"unit\": \"USD\", \"label\": \"Operating Income/Loss\", \"order\": 1100}, \"net_income_loss\": {\"value\": 36330000000.0, \"unit\": \"USD\", \"label\": \"Net Income/Loss\", \"order\": 3200}, \"basic_earnings_per_share\": {\"value\": 2.41, \"unit\": \"USD / shares\", \"label\": \"Basic Earnings Per Share\", \"order\": 4200}, \"income_loss_from_continuing_operations_after_tax\": {\"value\": 36330000000.0, \"unit\": \"USD\", \"label\": \"Income/Loss From Continuing Operations After Tax\", \"order\": 1400}, \"net_income_loss_available_to_common_stockholders_basic\": {\"value\": 36330000000.0, \"unit\": \"USD\", \"label\": \"Net Income/Loss Available To Common Stockholders, Basic\", \"order\": 3700}, \"participating_securities_distributed_and_undistributed_earnings_loss_basic\": {\"value\": 0, \"unit\": \"USD\", \"label\": \"Participating Securities, Distributed And Undistributed Earnings/Loss, Basic\", \"order\": 3800}, \"cost_of_revenue\": {\"value\": 66025000000.0, \"unit\": \"USD\", \"label\": \"Cost Of Revenue\", \"order\": 300}, \"costs_and_expenses\": {\"value\": 81716000000.0, \"unit\": \"USD\", \"label\": \"Costs And Expenses\", \"order\": 600}, \"net_income_loss_attributable_to_noncontrolling_interest\": {\"value\": 0, \"unit\": \"USD\", \"label\": \"Net Income/Loss Attributable To Noncontrolling Interest\", \"order\": 3300}, \"selling_general_and_administrative_expenses\": {\"value\": 7175000000.0, \"unit\": \"USD\", \"label\": \"Selling, General, and Administrative Expenses\", \"order\": 1010}, \"income_tax_expense_benefit\": {\"value\": 6254000000.0, \"unit\": \"USD\", \"label\": \"Income Tax Expense/Benefit\", \"order\": 2200}, \"diluted_earnings_per_share\": {\"value\": 2.4, \"unit\": \"USD / shares\", \"label\": \"Diluted Earnings Per Share\", \"order\": 4300}, \"diluted_average_shares\": {\"value\": 15150865000.0, \"unit\": \"shares\", \"label\": \"Diluted Average Shares\", \"order\": 4500}, \"preferred_stock_dividends_and_other_adjustments\": {\"value\": 0, \"unit\": \"USD\", \"label\": \"Preferred Stock Dividends And Other Adjustments\", \"order\": 3900}, \"net_income_loss_attributable_to_parent\": {\"value\": 36330000000.0, \"unit\": \"USD\", \"label\": \"Net Income/Loss Attributable To Parent\", \"order\": 3500}, \"gross_profit\": {\"value\": 58275000000.0, \"unit\": \"USD\", \"label\": \"Gross Profit\", \"order\": 800}, \"basic_average_shares\": {\"value\": 15081724000.0, \"unit\": \"shares\", \"label\": \"Basic Average Shares\", \"order\": 4400}, \"research_and_development\": {\"value\": 8268000000.0, \"unit\": \"USD\", \"label\": \"Research and Development\", \"order\": 1030}}, \"comprehensive_income\": {\"comprehensive_income_loss_attributable_to_noncontrolling_interest\": {\"value\": 0, \"unit\": \"USD\", \"label\": \"Comprehensive Income/Loss Attributable To Noncontrolling Interest\", \"order\": 200}, \"other_comprehensive_income_loss_attributable_to_parent\": {\"value\": 383000000.0, \"unit\": \"USD\", \"label\": \"Other Comprehensive Income/Loss Attributable To Parent\", \"order\": 600}, \"comprehensive_income_loss\": {\"value\": 36713000000.0, \"unit\": \"USD\", \"label\": \"Comprehensive Income/Loss\", \"order\": 100}, \"comprehensive_income_loss_attributable_to_parent\": {\"value\": 36713000000.0, \"unit\": \"USD\", \"label\": \"Comprehensive Income/Loss Attributable To Parent\", \"order\": 300}, \"other_comprehensive_income_loss\": {\"value\": 36713000000.0, \"unit\": \"USD\", \"label\": \"Other Comprehensive Income/Loss\", \"order\": 400}}, \"cash_flow_statement\": {\"net_cash_flow_from_investing_activities\": {\"value\": 9792000000.0, \"unit\": \"USD\", \"label\": \"Net Cash Flow From Investing Activities\", \"order\": 400}, \"net_cash_flow_from_financing_activities\": {\"value\": -39371000000.0, \"unit\": \"USD\", \"label\": \"Net Cash Flow From Financing Activities\", \"order\": 700}, \"net_cash_flow_from_operating_activities_continuing\": {\"value\": 29935000000.0, \"unit\": \"USD\", \"label\": \"Net Cash Flow From Operating Activities, Continuing\", \"order\": 200}, \"net_cash_flow_from_operating_activities\": {\"value\": 29935000000.0, \"unit\": \"USD\", \"label\": \"Net Cash Flow From Operating Activities\", \"order\": 100}, \"net_cash_flow_from_financing_activities_continuing\": {\"value\": -39371000000.0, \"unit\": \"USD\", \"label\": \"Net Cash Flow From Financing Activities, Continuing\", \"order\": 800}, \"net_cash_flow_continuing\": {\"value\": 356000000.0, \"unit\": \"USD\", \"label\": \"Net Cash Flow, Continuing\", \"order\": 1200}, \"net_cash_flow_from_investing_activities_continuing\": {\"value\": 9792000000.0, \"unit\": \"USD\", \"label\": \"Net Cash Flow From Investing Activities, Continuing\", \"order\": 500}, \"net_cash_flow\": {\"value\": 356000000.0, \"unit\": \"USD\", \"label\": \"Net Cash Flow\", \"order\": 1100}}}}, {\"start_date\": \"2024-06-30\", \"end_date\": \"2024-09-28\", \"timeframe\": \"quarterly\", \"fiscal_period\": \"Q4\", \"fiscal_year\": \"2024\", \"cik\": \"0000320193\", \"sic\": \"3571\", \"tickers\": [\"AAPL\"], \"company_name\": \"Apple Inc.\", \"financials\": {\"cash_flow_statement\": {\"net_cash_flow_from_operating_activities_continuing\": {\"value\": 26811000000.0, \"unit\": \"USD\", \"label\": \"Net Cash Flow From Operating Activities, Continuing\", \"order\": 200}, \"net_cash_flow_from_investing_activities\": {\"value\": 1445000000.0, \"unit\": \"USD\", \"label\": \"Net Cash Flow From Investing Activities\", \"order\": 400}, \"net_cash_flow_from_investing_activities_continuing\": {\"value\": 1445000000.0, \"unit\": \"USD\", \"label\": \"Net Cash Flow From Investing Activities, Continuing\", \"order\": 500}, \"net_cash_flow_from_financing_activities\": {\"value\": -24948000000.0, \"unit\": \"USD\", \"label\": \"Net Cash Flow From Financing Activities\", \"order\": 700}, \"net_cash_flow\": {\"value\": 3308000000.0, \"unit\": \"USD\", \"label\": \"Net Cash Flow\", \"order\": 1100}, \"net_cash_flow_from_operating_activities\": {\"value\": 26811000000.0, \"unit\": \"USD\", \"label\": \"Net Cash Flow From Operating Activities\", \"order\": 100}, \"net_cash_flow_from_financing_activities_continuing\": {\"value\": -24948000000.0, \"unit\": \"USD\", \"label\": \"Net Cash Flow From Financing Activities, Continuing\", \"order\": 800}, \"net_cash_flow_continuing\": {\"value\": 3308000000.0, \"unit\": \"USD\", \"label\": \"Net Cash Flow, Continuing\", \"order\": 1200}}, \"income_statement\": {\"income_loss_from_continuing_operations_before_tax\": {\"value\": 29610000000.0, \"unit\": \"USD\", \"label\": \"Income/Loss From Continuing Operations Before Tax\", \"order\": 1500}, \"basic_earnings_per_share\": {\"value\": 0.9800000000000004, \"unit\": \"USD / shares\", \"label\": \"Basic Earnings Per Share\", \"order\": 4200}, \"nonoperating_income_loss\": {\"value\": 19000000.0, \"unit\": \"USD\", \"label\": \"Nonoperating Income/Loss\", \"order\": 900}, \"net_income_loss_attributable_to_parent\": {\"value\": 14736000000.0, \"unit\": \"USD\", \"label\": \"Net Income/Loss Attributable To Parent\", \"order\": 3500}, \"participating_securities_distributed_and_undistributed_earnings_loss_basic\": {\"value\": 0, \"unit\": \"USD\", \"label\": \"Participating Securities, Distributed And Undistributed Earnings/Loss, Basic\", \"order\": 3800}, \"gross_profit\": {\"value\": 43879000000.0, \"unit\": \"USD\", \"label\": \"Gross Profit\", \"order\": 800}, \"cost_of_revenue\": {\"value\": 51051000000.0, \"unit\": \"USD\", \"label\": \"Cost Of Revenue\", \"order\": 300}, \"diluted_earnings_per_share\": {\"value\": 0.9699999999999998, \"unit\": \"USD / shares\", \"label\": \"Diluted Earnings Per Share\", \"order\": 4300}, \"costs_and_expenses\": {\"value\": 65320000000.0, \"unit\": \"USD\", \"label\": \"Costs And Expenses\", \"order\": 600}, \"benefits_costs_expenses\": {\"value\": 65320000000.0, \"unit\": \"USD\", \"label\": \"Benefits Costs and Expenses\", \"order\": 200}, \"operating_income_loss\": {\"value\": 29591000000.0, \"unit\": \"USD\", \"label\": \"Operating Income/Loss\", \"order\": 1100}, \"net_income_loss_available_to_common_stockholders_basic\": {\"value\": 14736000000.0, \"unit\": \"USD\", \"label\": \"Net Income/Loss Available To Common Stockholders, Basic\", \"order\": 3700}, \"income_tax_expense_benefit\": {\"value\": 14874000000.0, \"unit\": \"USD\", \"label\": \"Income Tax Expense/Benefit\", \"order\": 2200}, \"operating_expenses\": {\"value\": 14288000000.0, \"unit\": \"USD\", \"label\": \"Operating Expenses\", \"order\": 1000}, \"selling_general_and_administrative_expenses\": {\"value\": 6523000000.0, \"unit\": \"USD\", \"label\": \"Selling, General, and Administrative Expenses\", \"order\": 1010}, \"diluted_average_shares\": {\"value\": -55080000.0, \"unit\": \"shares\", \"label\": \"Diluted Average Shares\", \"order\": 4500}, \"income_loss_from_continuing_operations_after_tax\": {\"value\": 14736000000.0, \"unit\": \"USD\", \"label\": \"Income/Loss From Continuing Operations After Tax\", \"order\": 1400}, \"research_and_development\": {\"value\": 7765000000.0, \"unit\": \"USD\", \"label\": \"Research and Development\", \"order\": 1030}, \"revenues\": {\"value\": 94930000000.0, \"unit\": \"USD\", \"label\": \"Revenues\", \"order\": 100}, \"net_income_loss\": {\"value\": 14736000000.0, \"unit\": \"USD\", \"label\": \"Net Income/Loss\", \"order\": 3200}, \"preferred_stock_dividends_and_other_adjustments\": {\"value\": 0, \"unit\": \"USD\", \"label\": \"Preferred Stock Dividends And Other Adjustments\", \"order\": 3900}, \"net_income_loss_attributable_to_noncontrolling_interest\": {\"value\": 0, \"unit\": \"USD\", \"label\": \"Net Income/Loss Attributable To Noncontrolling Interest\", \"order\": 3300}, \"basic_average_shares\": {\"value\": -57264000.0, \"unit\": \"shares\", \"label\": \"Basic Average Shares\", \"order\": 4400}}, \"balance_sheet\": {\"accounts_payable\": {\"value\": 68960000000.0, \"unit\": \"USD\", \"label\": \"Accounts Payable\", \"order\": 710}, \"equity_attributable_to_noncontrolling_interest\": {\"value\": 0, \"unit\": \"USD\", \"label\": \"Equity Attributable To Noncontrolling Interest\", \"order\": 1500}, \"current_liabilities\": {\"value\": 176392000000.0, \"unit\": \"USD\", \"label\": \"Current Liabilities\", \"order\": 700}, \"equity_attributable_to_parent\": {\"value\": 56950000000.0, \"unit\": \"USD\", \"label\": \"Equity Attributable To Parent\", \"order\": 1600}, \"other_noncurrent_assets\": {\"value\": 166313000000.0, \"unit\": \"USD\", \"label\": \"Other Non-current Assets\", \"order\": 350}, \"noncurrent_assets\": {\"value\": 211993000000.0, \"unit\": \"USD\", \"label\": \"Noncurrent Assets\", \"order\": 300}, \"other_current_assets\": {\"value\": 145701000000.0, \"unit\": \"USD\", \"label\": \"Other Current Assets\", \"order\": 250}, \"other_current_liabilities\": {\"value\": 107432000000.0, \"unit\": \"USD\", \"label\": \"Other Current Liabilities\", \"order\": 740}, \"current_assets\": {\"value\": 152987000000.0, \"unit\": \"USD\", \"label\": \"Current Assets\", \"order\": 200}, \"inventory\": {\"value\": 7286000000.0, \"unit\": \"USD\", \"label\": \"Inventory\", \"order\": 230}, \"assets\": {\"value\": 364980000000.0, \"unit\": \"USD\", \"label\": \"Assets\", \"order\": 100}, \"equity\": {\"value\": 56950000000.0, \"unit\": \"USD\", \"label\": \"Equity\", \"order\": 1400}, \"long_term_debt\": {\"value\": 96662000000.0, \"unit\": \"USD\", \"label\": \"Long-term Debt\", \"order\": 810}, \"liabilities\": {\"value\": 308030000000.0, \"unit\": \"USD\", \"label\": \"Liabilities\", \"order\": 600}, \"noncurrent_liabilities\": {\"value\": 131638000000.0, \"unit\": \"USD\", \"label\": \"Noncurrent Liabilities\", \"order\": 800}, \"liabilities_and_equity\": {\"value\": 364980000000.0, \"unit\": \"USD\", \"label\": \"Liabilities And Equity\", \"order\": 1900}, \"other_noncurrent_liabilities\": {\"value\": 34976000000.0, \"unit\": \"USD\", \"label\": \"Other Non-current Liabilities\", \"order\": 820}, \"fixed_assets\": {\"value\": 45680000000.0, \"unit\": \"USD\", \"label\": \"Fixed Assets\", \"order\": 320}}, \"comprehensive_income\": {\"comprehensive_income_loss\": {\"value\": 15980000000.0, \"unit\": \"USD\", \"label\": \"Comprehensive Income/Loss\", \"order\": 100}, \"other_comprehensive_income_loss\": {\"value\": 15980000000.0, \"unit\": \"USD\", \"label\": \"Other Comprehensive Income/Loss\", \"order\": 400}, \"comprehensive_income_loss_attributable_to_parent\": {\"value\": 15980000000.0, \"unit\": \"USD\", \"label\": \"Comprehensive Income/Loss Attributable To Parent\", \"order\": 300}, \"other_comprehensive_income_loss_attributable_to_parent\": {\"value\": 1244000000.0, \"unit\": \"USD\", \"label\": \"Other Comprehensive Income/Loss Attributable To Parent\", \"order\": 600}, \"comprehensive_income_loss_attributable_to_noncontrolling_interest\": {\"value\": 0, \"unit\": \"USD\", \"label\": \"Comprehensive Income/Loss Attributable To Noncontrolling Interest\", \"order\": 200}}}}, {\"start_date\": \"2023-10-01\", \"end_date\": \"2024-09-28\", \"filing_date\": \"2024-11-01\", \"acceptance_datetime\": \"2024-11-01T10:01:36Z\", \"timeframe\": \"annual\", \"fiscal_period\": \"FY\", \"fiscal_year\": \"2024\", \"cik\": \"0000320193\", \"sic\": \"3571\", \"tickers\": [\"AAPL\"], \"company_name\": \"Apple Inc.\", \"source_filing_url\": \"https://api.polygon.io/v1/reference/sec/filings/0000320193-24-000123\", \"source_filing_file_url\": \"http://api.polygon.io/v1/reference/sec/filings/0000320193-24-000123/files/aapl-20240928_htm.xml\", \"financials\": {\"comprehensive_income\": {\"comprehensive_income_loss_attributable_to_parent\": {\"value\": 98016000000.0, \"unit\": \"USD\", \"label\": \"Comprehensive Income/Loss Attributable To Parent\", \"order\": 300}, \"other_comprehensive_income_loss_attributable_to_parent\": {\"value\": 4280000000.0, \"unit\": \"USD\", \"label\": \"Other Comprehensive Income/Loss Attributable To Parent\", \"order\": 600}, \"comprehensive_income_loss_attributable_to_noncontrolling_interest\": {\"value\": 0, \"unit\": \"USD\", \"label\": \"Comprehensive Income/Loss Attributable To Noncontrolling Interest\", \"order\": 200}, \"other_comprehensive_income_loss\": {\"value\": 98016000000.0, \"unit\": \"USD\", \"label\": \"Other Comprehensive Income/Loss\", \"order\": 400}, \"comprehensive_income_loss\": {\"value\": 98016000000.0, \"unit\": \"USD\", \"label\": \"Comprehensive Income/Loss\", \"order\": 100}}, \"income_statement\": {\"net_income_loss_attributable_to_parent\": {\"value\": 93736000000.0, \"unit\": \"USD\", \"label\": \"Net Income/Loss Attributable To Parent\", \"order\": 3500}, \"cost_of_revenue\": {\"value\": 210352000000.0, \"unit\": \"USD\", \"label\": \"Cost Of Revenue\", \"order\": 300}, \"revenues\": {\"value\": 391035000000.0, \"unit\": \"USD\", \"label\": \"Revenues\", \"order\": 100}, \"operating_income_loss\": {\"value\": 123216000000.0, \"unit\": \"USD\", \"label\": \"Operating Income/Loss\", \"order\": 1100}, \"basic_average_shares\": {\"value\": 15343783000.0, \"unit\": \"shares\", \"label\": \"Basic Average Shares\", \"order\": 4400}, \"costs_and_expenses\": {\"value\": 267550000000.0, \"unit\": \"USD\", \"label\": \"Costs And Expenses\", \"order\": 600}, \"preferred_stock_dividends_and_other_adjustments\": {\"value\": 0, \"unit\": \"USD\", \"label\": \"Preferred Stock Dividends And Other Adjustments\", \"order\": 3900}, \"benefits_costs_expenses\": {\"value\": 267550000000.0, \"unit\": \"USD\", \"label\": \"Benefits Costs and Expenses\", \"order\": 200}, \"net_income_loss_attributable_to_noncontrolling_interest\": {\"value\": 0, \"unit\": \"USD\", \"label\": \"Net Income/Loss Attributable To Noncontrolling Interest\", \"order\": 3300}, \"participating_securities_distributed_and_undistributed_earnings_loss_basic\": {\"value\": 0, \"unit\": \"USD\", \"label\": \"Participating Securities, Distributed And Undistributed Earnings/Loss, Basic\", \"order\": 3800}, \"income_tax_expense_benefit\": {\"value\": 29749000000.0, \"unit\": \"USD\", \"label\": \"Income Tax Expense/Benefit\", \"order\": 2200}, \"net_income_loss\": {\"value\": 93736000000.0, \"unit\": \"USD\", \"label\": \"Net Income/Loss\", \"order\": 3200}, \"diluted_earnings_per_share\": {\"value\": 6.08, \"unit\": \"USD / shares\", \"label\": \"Diluted Earnings Per Share\", \"order\": 4300}, \"basic_earnings_per_share\": {\"value\": 6.11, \"unit\": \"USD / shares\", \"label\": \"Basic Earnings Per Share\", \"order\": 4200}, \"gross_profit\": {\"value\": 180683000000.0, \"unit\": \"USD\", \"label\": \"Gross Profit\", \"order\": 800}, \"income_loss_from_continuing_operations_before_tax\": {\"value\": 123485000000.0, \"unit\": \"USD\", \"label\": \"Income/Loss From Continuing Operations Before Tax\", \"order\": 1500}, \"income_loss_from_continuing_operations_after_tax\": {\"value\": 93736000000.0, \"unit\": \"USD\", \"label\": \"Income/Loss From Continuing Operations After Tax\", \"order\": 1400}, \"nonoperating_income_loss\": {\"value\": 269000000.0, \"unit\": \"USD\", \"label\": \"Nonoperating Income/Loss\", \"order\": 900}, \"research_and_development\": {\"value\": 31370000000.0, \"unit\": \"USD\", \"label\": \"Research and Development\", \"order\": 1030}, \"selling_general_and_administrative_expenses\": {\"value\": 26097000000.0, \"unit\": \"USD\", \"label\": \"Selling, General, and Administrative Expenses\", \"order\": 1010}, \"diluted_average_shares\": {\"value\": 15408095000.0, \"unit\": \"shares\", \"label\": \"Diluted Average Shares\", \"order\": 4500}, \"operating_expenses\": {\"value\": 57467000000.0, \"unit\": \"USD\", \"label\": \"Operating Expenses\", \"order\": 1000}, \"net_income_loss_available_to_common_stockholders_basic\": {\"value\": 93736000000.0, \"unit\": \"USD\", \"label\": \"Net Income/Loss Available To Common Stockholders, Basic\", \"order\": 3700}}, \"balance_sheet\": {\"other_current_assets\": {\"value\": 145701000000.0, \"unit\": \"USD\", \"label\": \"Other Current Assets\", \"order\": 250}, \"equity_attributable_to_noncontrolling_interest\": {\"value\": 0, \"unit\": \"USD\", \"label\": \"Equity Attributable To Noncontrolling Interest\", \"order\": 1500}, \"current_assets\": {\"value\": 152987000000.0, \"unit\": \"USD\", \"label\": \"Current Assets\", \"order\": 200}, \"long_term_debt\": {\"value\": 96662000000.0, \"unit\": \"USD\", \"label\": \"Long-term Debt\", \"order\": 810}, \"noncurrent_liabilities\": {\"value\": 131638000000.0, \"unit\": \"USD\", \"label\": \"Noncurrent Liabilities\", \"order\": 800}, \"current_liabilities\": {\"value\": 176392000000.0, \"unit\": \"USD\", \"label\": \"Current Liabilities\", \"order\": 700}, \"liabilities\": {\"value\": 308030000000.0, \"unit\": \"USD\", \"label\": \"Liabilities\", \"order\": 600}, \"inventory\": {\"value\": 7286000000.0, \"unit\": \"USD\", \"label\": \"Inventory\", \"order\": 230}, \"equity\": {\"value\": 56950000000.0, \"unit\": \"USD\", \"label\": \"Equity\", \"order\": 1400}, \"accounts_payable\": {\"value\": 68960000000.0, \"unit\": \"USD\", \"label\": \"Accounts Payable\", \"order\": 710}, \"other_noncurrent_assets\": {\"value\": 166313000000.0, \"unit\": \"USD\", \"label\": \"Other Non-current Assets\", \"order\": 350}, \"other_current_liabilities\": {\"value\": 107432000000.0, \"unit\": \"USD\", \"label\": \"Other Current Liabilities\", \"order\": 740}, \"noncurrent_assets\": {\"value\": 211993000000.0, \"unit\": \"USD\", \"label\": \"Noncurrent Assets\", \"order\": 300}, \"equity_attributable_to_parent\": {\"value\": 56950000000.0, \"unit\": \"USD\", \"label\": \"Equity Attributable To Parent\", \"order\": 1600}, \"liabilities_and_equity\": {\"value\": 364980000000.0, \"unit\": \"USD\", \"label\": \"Liabilities And Equity\", \"order\": 1900}, \"fixed_assets\": {\"value\": 45680000000.0, \"unit\": \"USD\", \"label\": \"Fixed Assets\", \"order\": 320}, \"other_noncurrent_liabilities\": {\"value\": 34976000000.0, \"unit\": \"USD\", \"label\": \"Other Non-current Liabilities\", \"order\": 820}, \"assets\": {\"value\": 364980000000.0, \"unit\": \"USD\", \"label\": \"Assets\", \"order\": 100}}, \"cash_flow_statement\": {\"net_cash_flow_from_investing_activities_continuing\": {\"value\": 2935000000.0, \"unit\": \"USD\", \"label\": \"Net Cash Flow From Investing Activities, Continuing\", \"order\": 500}, \"net_cash_flow_from_operating_activities\": {\"value\": 118254000000.0, \"unit\": \"USD\", \"label\": \"Net Cash Flow From Operating Activities\", \"order\": 100}, \"net_cash_flow_continuing\": {\"value\": -794000000.0, \"unit\": \"USD\", \"label\": \"Net Cash Flow, Continuing\", \"order\": 1200}, \"net_cash_flow\": {\"value\": -794000000.0, \"unit\": \"USD\", \"label\": \"Net Cash Flow\", \"order\": 1100}, \"net_cash_flow_from_operating_activities_continuing\": {\"value\": 118254000000.0, \"unit\": \"USD\", \"label\": \"Net Cash Flow From Operating Activities, Continuing\", \"order\": 200}, \"net_cash_flow_from_financing_activities\": {\"value\": -121983000000.0, \"unit\": \"USD\", \"label\": \"Net Cash Flow From Financing Activities\", \"order\": 700}, \"net_cash_flow_from_financing_activities_continuing\": {\"value\": -121983000000.0, \"unit\": \"USD\", \"label\": \"Net Cash Flow From Financing Activities, Continuing\", \"order\": 800}, \"net_cash_flow_from_investing_activities\": {\"value\": 2935000000.0, \"unit\": \"USD\", \"label\": \"Net Cash Flow From Investing Activities\", \"order\": 400}}}}, {\"start_date\": \"2024-03-31\", \"end_date\": \"2024-06-29\", \"filing_date\": \"2024-08-02\", \"acceptance_datetime\": \"2024-08-01T22:03:34Z\", \"timeframe\": \"quarterly\", \"fiscal_period\": \"Q3\", \"fiscal_year\": \"2024\", \"cik\": \"0000320193\", \"sic\": \"3571\", \"tickers\": [\"AAPL\"], \"company_name\": \"Apple Inc.\", \"source_filing_url\": \"https://api.polygon.io/v1/reference/sec/filings/0000320193-24-000081\", \"source_filing_file_url\": \"http://api.polygon.io/v1/reference/sec/filings/0000320193-24-000081/files/aapl-20240629_htm.xml\", \"financials\": {\"balance_sheet\": {\"other_noncurrent_assets\": {\"value\": 161675000000.0, \"unit\": \"USD\", \"label\": \"Other Non-current Assets\", \"order\": 350}, \"noncurrent_liabilities\": {\"value\": 133280000000.0, \"unit\": \"USD\", \"label\": \"Noncurrent Liabilities\", \"order\": 800}, \"current_liabilities\": {\"value\": 131624000000.0, \"unit\": \"USD\", \"label\": \"Current Liabilities\", \"order\": 700}, \"assets\": {\"value\": 331612000000.0, \"unit\": \"USD\", \"label\": \"Assets\", \"order\": 100}, \"liabilities\": {\"value\": 264904000000.0, \"unit\": \"USD\", \"label\": \"Liabilities\", \"order\": 600}, \"equity_attributable_to_parent\": {\"value\": 66708000000.0, \"unit\": \"USD\", \"label\": \"Equity Attributable To Parent\", \"order\": 1600}, \"other_noncurrent_liabilities\": {\"value\": 34980000000.0, \"unit\": \"USD\", \"label\": \"Other Non-current Liabilities\", \"order\": 820}, \"noncurrent_assets\": {\"value\": 206177000000.0, \"unit\": \"USD\", \"label\": \"Noncurrent Assets\", \"order\": 300}, \"equity_attributable_to_noncontrolling_interest\": {\"value\": 0, \"unit\": \"USD\", \"label\": \"Equity Attributable To Noncontrolling Interest\", \"order\": 1500}, \"inventory\": {\"value\": 6165000000.0, \"unit\": \"USD\", \"label\": \"Inventory\", \"order\": 230}, \"other_current_liabilities\": {\"value\": 84050000000.0, \"unit\": \"USD\", \"label\": \"Other Current Liabilities\", \"order\": 740}, \"fixed_assets\": {\"value\": 44502000000.0, \"unit\": \"USD\", \"label\": \"Fixed Assets\", \"order\": 320}, \"equity\": {\"value\": 66708000000.0, \"unit\": \"USD\", \"label\": \"Equity\", \"order\": 1400}, \"liabilities_and_equity\": {\"value\": 331612000000.0, \"unit\": \"USD\", \"label\": \"Liabilities And Equity\", \"order\": 1900}, \"accounts_payable\": {\"value\": 47574000000.0, \"unit\": \"USD\", \"label\": \"Accounts Payable\", \"order\": 710}, \"long_term_debt\": {\"value\": 98300000000.0, \"unit\": \"USD\", \"label\": \"Long-term Debt\", \"order\": 810}, \"other_current_assets\": {\"value\": 119270000000.0, \"unit\": \"USD\", \"label\": \"Other Current Assets\", \"order\": 250}, \"current_assets\": {\"value\": 125435000000.0, \"unit\": \"USD\", \"label\": \"Current Assets\", \"order\": 200}}, \"income_statement\": {\"income_tax_expense_benefit\": {\"value\": 4046000000.0, \"unit\": \"USD\", \"label\": \"Income Tax Expense/Benefit\", \"order\": 2200}, \"operating_expenses\": {\"value\": 14326000000.0, \"unit\": \"USD\", \"label\": \"Operating Expenses\", \"order\": 1000}, \"net_income_loss_attributable_to_noncontrolling_interest\": {\"value\": 0, \"unit\": \"USD\", \"label\": \"Net Income/Loss Attributable To Noncontrolling Interest\", \"order\": 3300}, \"benefits_costs_expenses\": {\"value\": 60283000000.0, \"unit\": \"USD\", \"label\": \"Benefits Costs and Expenses\", \"order\": 200}, \"operating_income_loss\": {\"value\": 25352000000.0, \"unit\": \"USD\", \"label\": \"Operating Income/Loss\", \"order\": 1100}, \"nonoperating_income_loss\": {\"value\": 142000000.0, \"unit\": \"USD\", \"label\": \"Nonoperating Income/Loss\", \"order\": 900}, \"basic_earnings_per_share\": {\"value\": 1.4, \"unit\": \"USD / shares\", \"label\": \"Basic Earnings Per Share\", \"order\": 4200}, \"research_and_development\": {\"value\": 8006000000.0, \"unit\": \"USD\", \"label\": \"Research and Development\", \"order\": 1030}, \"net_income_loss\": {\"value\": 21448000000.0, \"unit\": \"USD\", \"label\": \"Net Income/Loss\", \"order\": 3200}, \"gross_profit\": {\"value\": 39678000000.0, \"unit\": \"USD\", \"label\": \"Gross Profit\", \"order\": 800}, \"diluted_average_shares\": {\"value\": 15348175000.0, \"unit\": \"shares\", \"label\": \"Diluted Average Shares\", \"order\": 4500}, \"participating_securities_distributed_and_undistributed_earnings_loss_basic\": {\"value\": 0, \"unit\": \"USD\", \"label\": \"Participating Securities, Distributed And Undistributed Earnings/Loss, Basic\", \"order\": 3800}, \"revenues\": {\"value\": 85777000000.0, \"unit\": \"USD\", \"label\": \"Revenues\", \"order\": 100}, \"income_loss_from_continuing_operations_after_tax\": {\"value\": 21448000000.0, \"unit\": \"USD\", \"label\": \"Income/Loss From Continuing Operations After Tax\", \"order\": 1400}, \"selling_general_and_administrative_expenses\": {\"value\": 6320000000.0, \"unit\": \"USD\", \"label\": \"Selling, General, and Administrative Expenses\", \"order\": 1010}, \"income_loss_from_continuing_operations_before_tax\": {\"value\": 25494000000.0, \"unit\": \"USD\", \"label\": \"Income/Loss From Continuing Operations Before Tax\", \"order\": 1500}, \"net_income_loss_available_to_common_stockholders_basic\": {\"value\": 21448000000.0, \"unit\": \"USD\", \"label\": \"Net Income/Loss Available To Common Stockholders, Basic\", \"order\": 3700}, \"cost_of_revenue\": {\"value\": 46099000000.0, \"unit\": \"USD\", \"label\": \"Cost Of Revenue\", \"order\": 300}, \"preferred_stock_dividends_and_other_adjustments\": {\"value\": 0, \"unit\": \"USD\", \"label\": \"Preferred Stock Dividends And Other Adjustments\", \"order\": 3900}, \"net_income_loss_attributable_to_parent\": {\"value\": 21448000000.0, \"unit\": \"USD\", \"label\": \"Net Income/Loss Attributable To Parent\", \"order\": 3500}, \"basic_average_shares\": {\"value\": 15287521000.0, \"unit\": \"shares\", \"label\": \"Basic Average Shares\", \"order\": 4400}, \"diluted_earnings_per_share\": {\"value\": 1.4, \"unit\": \"USD / shares\", \"label\": \"Diluted Earnings Per Share\", \"order\": 4300}, \"costs_and_expenses\": {\"value\": 60283000000.0, \"unit\": \"USD\", \"label\": \"Costs And Expenses\", \"order\": 600}}, \"comprehensive_income\": {\"other_comprehensive_income_loss\": {\"value\": 21992000000.0, \"unit\": \"USD\", \"label\": \"Other Comprehensive Income/Loss\", \"order\": 400}, \"comprehensive_income_loss_attributable_to_noncontrolling_interest\": {\"value\": 0, \"unit\": \"USD\", \"label\": \"Comprehensive Income/Loss Attributable To Noncontrolling Interest\", \"order\": 200}, \"other_comprehensive_income_loss_attributable_to_parent\": {\"value\": 544000000.0, \"unit\": \"USD\", \"label\": \"Other Comprehensive Income/Loss Attributable To Parent\", \"order\": 600}, \"comprehensive_income_loss_attributable_to_parent\": {\"value\": 21992000000.0, \"unit\": \"USD\", \"label\": \"Comprehensive Income/Loss Attributable To Parent\", \"order\": 300}, \"comprehensive_income_loss\": {\"value\": 21992000000.0, \"unit\": \"USD\", \"label\": \"Comprehensive Income/Loss\", \"order\": 100}}, \"cash_flow_statement\": {\"net_cash_flow\": {\"value\": -7286000000.0, \"unit\": \"USD\", \"label\": \"Net Cash Flow\", \"order\": 1100}, \"net_cash_flow_from_investing_activities_continuing\": {\"value\": -127000000.0, \"unit\": \"USD\", \"label\": \"Net Cash Flow From Investing Activities, Continuing\", \"order\": 500}, \"net_cash_flow_from_operating_activities_continuing\": {\"value\": 28858000000.0, \"unit\": \"USD\", \"label\": \"Net Cash Flow From Operating Activities, Continuing\", \"order\": 200}, \"net_cash_flow_from_financing_activities\": {\"value\": -36017000000.0, \"unit\": \"USD\", \"label\": \"Net Cash Flow From Financing Activities\", \"order\": 700}, \"net_cash_flow_from_investing_activities\": {\"value\": -127000000.0, \"unit\": \"USD\", \"label\": \"Net Cash Flow From Investing Activities\", \"order\": 400}, \"net_cash_flow_continuing\": {\"value\": -7286000000.0, \"unit\": \"USD\", \"label\": \"Net Cash Flow, Continuing\", \"order\": 1200}, \"net_cash_flow_from_financing_activities_continuing\": {\"value\": -36017000000.0, \"unit\": \"USD\", \"label\": \"Net Cash Flow From Financing Activities, Continuing\", \"order\": 800}, \"net_cash_flow_from_operating_activities\": {\"value\": 28858000000.0, \"unit\": \"USD\", \"label\": \"Net Cash Flow From Operating Activities\", \"order\": 100}}}}, {\"start_date\": \"2023-12-31\", \"end_date\": \"2024-03-30\", \"filing_date\": \"2024-05-03\", \"acceptance_datetime\": \"2024-05-02T22:04:25Z\", \"timeframe\": \"quarterly\", \"fiscal_period\": \"Q2\", \"fiscal_year\": \"2024\", \"cik\": \"0000320193\", \"sic\": \"3571\", \"tickers\": [\"AAPL\"], \"company_name\": \"Apple Inc.\", \"source_filing_url\": \"https://api.polygon.io/v1/reference/sec/filings/0000320193-24-000069\", \"source_filing_file_url\": \"http://api.polygon.io/v1/reference/sec/filings/0000320193-24-000069/files/aapl-20240330_htm.xml\", \"financials\": {\"cash_flow_statement\": {\"net_cash_flow_continuing\": {\"value\": -8053000000.0, \"unit\": \"USD\", \"label\": \"Net Cash Flow, Continuing\", \"order\": 1200}, \"net_cash_flow_from_operating_activities\": {\"value\": 22690000000.0, \"unit\": \"USD\", \"label\": \"Net Cash Flow From Operating Activities\", \"order\": 100}, \"net_cash_flow_from_investing_activities_continuing\": {\"value\": -310000000.0, \"unit\": \"USD\", \"label\": \"Net Cash Flow From Investing Activities, Continuing\", \"order\": 500}, \"net_cash_flow_from_operating_activities_continuing\": {\"value\": 22690000000.0, \"unit\": \"USD\", \"label\": \"Net Cash Flow From Operating Activities, Continuing\", \"order\": 200}, \"net_cash_flow_from_financing_activities_continuing\": {\"value\": -30433000000.0, \"unit\": \"USD\", \"label\": \"Net Cash Flow From Financing Activities, Continuing\", \"order\": 800}, \"net_cash_flow_from_financing_activities\": {\"value\": -30433000000.0, \"unit\": \"USD\", \"label\": \"Net Cash Flow From Financing Activities\", \"order\": 700}, \"net_cash_flow_from_investing_activities\": {\"value\": -310000000.0, \"unit\": \"USD\", \"label\": \"Net Cash Flow From Investing Activities\", \"order\": 400}, \"net_cash_flow\": {\"value\": -8053000000.0, \"unit\": \"USD\", \"label\": \"Net Cash Flow\", \"order\": 1100}}, \"income_statement\": {\"operating_income_loss\": {\"value\": 27900000000.0, \"unit\": \"USD\", \"label\": \"Operating Income/Loss\", \"order\": 1100}, \"preferred_stock_dividends_and_other_adjustments\": {\"value\": 0, \"unit\": \"USD\", \"label\": \"Preferred Stock Dividends And Other Adjustments\", \"order\": 3900}, \"gross_profit\": {\"value\": 42271000000.0, \"unit\": \"USD\", \"label\": \"Gross Profit\", \"order\": 800}, \"benefits_costs_expenses\": {\"value\": 62695000000.0, \"unit\": \"USD\", \"label\": \"Benefits Costs and Expenses\", \"order\": 200}, \"revenues\": {\"value\": 90753000000.0, \"unit\": \"USD\", \"label\": \"Revenues\", \"order\": 100}, \"operating_expenses\": {\"value\": 14371000000.0, \"unit\": \"USD\", \"label\": \"Operating Expenses\", \"order\": 1000}, \"basic_average_shares\": {\"value\": 15405856000.0, \"unit\": \"shares\", \"label\": \"Basic Average Shares\", \"order\": 4400}, \"diluted_earnings_per_share\": {\"value\": 1.53, \"unit\": \"USD / shares\", \"label\": \"Diluted Earnings Per Share\", \"order\": 4300}, \"net_income_loss_attributable_to_parent\": {\"value\": 23636000000.0, \"unit\": \"USD\", \"label\": \"Net Income/Loss Attributable To Parent\", \"order\": 3500}, \"diluted_average_shares\": {\"value\": 15464709000.0, \"unit\": \"shares\", \"label\": \"Diluted Average Shares\", \"order\": 4500}, \"income_loss_from_continuing_operations_before_tax\": {\"value\": 28058000000.0, \"unit\": \"USD\", \"label\": \"Income/Loss From Continuing Operations Before Tax\", \"order\": 1500}, \"income_tax_expense_benefit\": {\"value\": 4422000000.0, \"unit\": \"USD\", \"label\": \"Income Tax Expense/Benefit\", \"order\": 2200}, \"basic_earnings_per_share\": {\"value\": 1.53, \"unit\": \"USD / shares\", \"label\": \"Basic Earnings Per Share\", \"order\": 4200}, \"cost_of_revenue\": {\"value\": 48482000000.0, \"unit\": \"USD\", \"label\": \"Cost Of Revenue\", \"order\": 300}, \"income_loss_from_continuing_operations_after_tax\": {\"value\": 23636000000.0, \"unit\": \"USD\", \"label\": \"Income/Loss From Continuing Operations After Tax\", \"order\": 1400}, \"nonoperating_income_loss\": {\"value\": 158000000.0, \"unit\": \"USD\", \"label\": \"Nonoperating Income/Loss\", \"order\": 900}, \"participating_securities_distributed_and_undistributed_earnings_loss_basic\": {\"value\": 0, \"unit\": \"USD\", \"label\": \"Participating Securities, Distributed And Undistributed Earnings/Loss, Basic\", \"order\": 3800}, \"research_and_development\": {\"value\": 7903000000.0, \"unit\": \"USD\", \"label\": \"Research and Development\", \"order\": 1030}, \"selling_general_and_administrative_expenses\": {\"value\": 6468000000.0, \"unit\": \"USD\", \"label\": \"Selling, General, and Administrative Expenses\", \"order\": 1010}, \"net_income_loss_available_to_common_stockholders_basic\": {\"value\": 23636000000.0, \"unit\": \"USD\", \"label\": \"Net Income/Loss Available To Common Stockholders, Basic\", \"order\": 3700}, \"net_income_loss\": {\"value\": 23636000000.0, \"unit\": \"USD\", \"label\": \"Net Income/Loss\", \"order\": 3200}, \"costs_and_expenses\": {\"value\": 62695000000.0, \"unit\": \"USD\", \"label\": \"Costs And Expenses\", \"order\": 600}, \"net_income_loss_attributable_to_noncontrolling_interest\": {\"value\": 0, \"unit\": \"USD\", \"label\": \"Net Income/Loss Attributable To Noncontrolling Interest\", \"order\": 3300}}, \"comprehensive_income\": {\"other_comprehensive_income_loss_attributable_to_parent\": {\"value\": 418000000.0, \"unit\": \"USD\", \"label\": \"Other Comprehensive Income/Loss Attributable To Parent\", \"order\": 600}, \"other_comprehensive_income_loss\": {\"value\": 24054000000.0, \"unit\": \"USD\", \"label\": \"Other Comprehensive Income/Loss\", \"order\": 400}, \"comprehensive_income_loss\": {\"value\": 24054000000.0, \"unit\": \"USD\", \"label\": \"Comprehensive Income/Loss\", \"order\": 100}, \"comprehensive_income_loss_attributable_to_noncontrolling_interest\": {\"value\": 0, \"unit\": \"USD\", \"label\": \"Comprehensive Income/Loss Attributable To Noncontrolling Interest\", \"order\": 200}, \"comprehensive_income_loss_attributable_to_parent\": {\"value\": 24054000000.0, \"unit\": \"USD\", \"label\": \"Comprehensive Income/Loss Attributable To Parent\", \"order\": 300}}, \"balance_sheet\": {\"noncurrent_liabilities\": {\"value\": 139395000000.0, \"unit\": \"USD\", \"label\": \"Noncurrent Liabilities\", \"order\": 800}, \"current_liabilities\": {\"value\": 123822000000.0, \"unit\": \"USD\", \"label\": \"Current Liabilities\", \"order\": 700}, \"inventory\": {\"value\": 6232000000.0, \"unit\": \"USD\", \"label\": \"Inventory\", \"order\": 230}, \"equity_attributable_to_parent\": {\"value\": 74194000000.0, \"unit\": \"USD\", \"label\": \"Equity Attributable To Parent\", \"order\": 1600}, \"other_current_assets\": {\"value\": 122184000000.0, \"unit\": \"USD\", \"label\": \"Other Current Assets\", \"order\": 250}, \"liabilities_and_equity\": {\"value\": 337411000000.0, \"unit\": \"USD\", \"label\": \"Liabilities And Equity\", \"order\": 1900}, \"other_current_liabilities\": {\"value\": 78069000000.0, \"unit\": \"USD\", \"label\": \"Other Current Liabilities\", \"order\": 740}, \"accounts_payable\": {\"value\": 45753000000.0, \"unit\": \"USD\", \"label\": \"Accounts Payable\", \"order\": 710}, \"noncurrent_assets\": {\"value\": 208995000000.0, \"unit\": \"USD\", \"label\": \"Noncurrent Assets\", \"order\": 300}, \"liabilities\": {\"value\": 263217000000.0, \"unit\": \"USD\", \"label\": \"Liabilities\", \"order\": 600}, \"long_term_debt\": {\"value\": 102600000000.0, \"unit\": \"USD\", \"label\": \"Long-term Debt\", \"order\": 810}, \"equity_attributable_to_noncontrolling_interest\": {\"value\": 0, \"unit\": \"USD\", \"label\": \"Equity Attributable To Noncontrolling Interest\", \"order\": 1500}, \"current_assets\": {\"value\": 128416000000.0, \"unit\": \"USD\", \"label\": \"Current Assets\", \"order\": 200}, \"other_noncurrent_assets\": {\"value\": 165449000000.0, \"unit\": \"USD\", \"label\": \"Other Non-current Assets\", \"order\": 350}, \"assets\": {\"value\": 337411000000.0, \"unit\": \"USD\", \"label\": \"Assets\", \"order\": 100}, \"fixed_assets\": {\"value\": 43546000000.0, \"unit\": \"USD\", \"label\": \"Fixed Assets\", \"order\": 320}, \"equity\": {\"value\": 74194000000.0, \"unit\": \"USD\", \"label\": \"Equity\", \"order\": 1400}, \"other_noncurrent_liabilities\": {\"value\": 36795000000.0, \"unit\": \"USD\", \"label\": \"Other Non-current Liabilities\", \"order\": 820}}}}, {\"start_date\": \"2023-10-01\", \"end_date\": \"2023-12-30\", \"filing_date\": \"2024-02-02\", \"acceptance_datetime\": \"2024-02-01T23:03:38Z\", \"timeframe\": \"quarterly\", \"fiscal_period\": \"Q1\", \"fiscal_year\": \"2024\", \"cik\": \"0000320193\", \"sic\": \"3571\", \"tickers\": [\"AAPL\"], \"company_name\": \"Apple Inc.\", \"source_filing_url\": \"https://api.polygon.io/v1/reference/sec/filings/0000320193-24-000006\", \"source_filing_file_url\": \"http://api.polygon.io/v1/reference/sec/filings/0000320193-24-000006/files/aapl-20231230_htm.xml\", \"financials\": {\"balance_sheet\": {\"other_current_assets\": {\"value\": 137181000000.0, \"unit\": \"USD\", \"label\": \"Other Current Assets\", \"order\": 250}, \"noncurrent_liabilities\": {\"value\": 145441000000.0, \"unit\": \"USD\", \"label\": \"Noncurrent Liabilities\", \"order\": 800}, \"current_liabilities\": {\"value\": 133973000000.0, \"unit\": \"USD\", \"label\": \"Current Liabilities\", \"order\": 700}, \"other_noncurrent_liabilities\": {\"value\": 39441000000.0, \"unit\": \"USD\", \"label\": \"Other Non-current Liabilities\", \"order\": 820}, \"equity_attributable_to_noncontrolling_interest\": {\"value\": 0, \"unit\": \"USD\", \"label\": \"Equity Attributable To Noncontrolling Interest\", \"order\": 1500}, \"equity\": {\"value\": 74100000000.0, \"unit\": \"USD\", \"label\": \"Equity\", \"order\": 1400}, \"equity_attributable_to_parent\": {\"value\": 74100000000.0, \"unit\": \"USD\", \"label\": \"Equity Attributable To Parent\", \"order\": 1600}, \"other_current_liabilities\": {\"value\": 75827000000.0, \"unit\": \"USD\", \"label\": \"Other Current Liabilities\", \"order\": 740}, \"assets\": {\"value\": 353514000000.0, \"unit\": \"USD\", \"label\": \"Assets\", \"order\": 100}, \"other_noncurrent_assets\": {\"value\": 166156000000.0, \"unit\": \"USD\", \"label\": \"Other Non-current Assets\", \"order\": 350}, \"liabilities\": {\"value\": 279414000000.0, \"unit\": \"USD\", \"label\": \"Liabilities\", \"order\": 600}, \"liabilities_and_equity\": {\"value\": 353514000000.0, \"unit\": \"USD\", \"label\": \"Liabilities And Equity\", \"order\": 1900}, \"accounts_payable\": {\"value\": 58146000000.0, \"unit\": \"USD\", \"label\": \"Accounts Payable\", \"order\": 710}, \"noncurrent_assets\": {\"value\": 209822000000.0, \"unit\": \"USD\", \"label\": \"Noncurrent Assets\", \"order\": 300}, \"inventory\": {\"value\": 6511000000.0, \"unit\": \"USD\", \"label\": \"Inventory\", \"order\": 230}, \"fixed_assets\": {\"value\": 43666000000.0, \"unit\": \"USD\", \"label\": \"Fixed Assets\", \"order\": 320}, \"current_assets\": {\"value\": 143692000000.0, \"unit\": \"USD\", \"label\": \"Current Assets\", \"order\": 200}, \"long_term_debt\": {\"value\": 106000000000.0, \"unit\": \"USD\", \"label\": \"Long-term Debt\", \"order\": 810}}, \"income_statement\": {\"selling_general_and_administrative_expenses\": {\"value\": 6786000000.0, \"unit\": \"USD\", \"label\": \"Selling, General, and Administrative Expenses\", \"order\": 1010}, \"cost_of_revenue\": {\"value\": 64720000000.0, \"unit\": \"USD\", \"label\": \"Cost Of Revenue\", \"order\": 300}, \"diluted_average_shares\": {\"value\": 15576641000.0, \"unit\": \"shares\", \"label\": \"Diluted Average Shares\", \"order\": 4500}, \"operating_expenses\": {\"value\": 14482000000.0, \"unit\": \"USD\", \"label\": \"Operating Expenses\", \"order\": 1000}, \"nonoperating_income_loss\": {\"value\": -50000000.0, \"unit\": \"USD\", \"label\": \"Nonoperating Income/Loss\", \"order\": 900}, \"research_and_development\": {\"value\": 7696000000.0, \"unit\": \"USD\", \"label\": \"Research and Development\", \"order\": 1030}, \"revenues\": {\"value\": 119575000000.0, \"unit\": \"USD\", \"label\": \"Revenues\", \"order\": 100}, \"net_income_loss\": {\"value\": 33916000000.0, \"unit\": \"USD\", \"label\": \"Net Income/Loss\", \"order\": 3200}, \"benefits_costs_expenses\": {\"value\": 79252000000.0, \"unit\": \"USD\", \"label\": \"Benefits Costs and Expenses\", \"order\": 200}, \"income_loss_from_continuing_operations_before_tax\": {\"value\": 40323000000.0, \"unit\": \"USD\", \"label\": \"Income/Loss From Continuing Operations Before Tax\", \"order\": 1500}, \"net_income_loss_attributable_to_noncontrolling_interest\": {\"value\": 0, \"unit\": \"USD\", \"label\": \"Net Income/Loss Attributable To Noncontrolling Interest\", \"order\": 3300}, \"net_income_loss_attributable_to_parent\": {\"value\": 33916000000.0, \"unit\": \"USD\", \"label\": \"Net Income/Loss Attributable To Parent\", \"order\": 3500}, \"diluted_earnings_per_share\": {\"value\": 2.18, \"unit\": \"USD / shares\", \"label\": \"Diluted Earnings Per Share\", \"order\": 4300}, \"net_income_loss_available_to_common_stockholders_basic\": {\"value\": 33916000000.0, \"unit\": \"USD\", \"label\": \"Net Income/Loss Available To Common Stockholders, Basic\", \"order\": 3700}, \"participating_securities_distributed_and_undistributed_earnings_loss_basic\": {\"value\": 0, \"unit\": \"USD\", \"label\": \"Participating Securities, Distributed And Undistributed Earnings/Loss, Basic\", \"order\": 3800}, \"income_tax_expense_benefit\": {\"value\": 6407000000.0, \"unit\": \"USD\", \"label\": \"Income Tax Expense/Benefit\", \"order\": 2200}, \"costs_and_expenses\": {\"value\": 79252000000.0, \"unit\": \"USD\", \"label\": \"Costs And Expenses\", \"order\": 600}, \"preferred_stock_dividends_and_other_adjustments\": {\"value\": 0, \"unit\": \"USD\", \"label\": \"Preferred Stock Dividends And Other Adjustments\", \"order\": 3900}, \"operating_income_loss\": {\"value\": 40373000000.0, \"unit\": \"USD\", \"label\": \"Operating Income/Loss\", \"order\": 1100}, \"gross_profit\": {\"value\": 54855000000.0, \"unit\": \"USD\", \"label\": \"Gross Profit\", \"order\": 800}, \"income_loss_from_continuing_operations_after_tax\": {\"value\": 33916000000.0, \"unit\": \"USD\", \"label\": \"Income/Loss From Continuing Operations After Tax\", \"order\": 1400}, \"basic_earnings_per_share\": {\"value\": 2.19, \"unit\": \"USD / shares\", \"label\": \"Basic Earnings Per Share\", \"order\": 4200}, \"basic_average_shares\": {\"value\": 15509763000.0, \"unit\": \"shares\", \"label\": \"Basic Average Shares\", \"order\": 4400}}, \"cash_flow_statement\": {\"net_cash_flow_from_financing_activities_continuing\": {\"value\": -30585000000.0, \"unit\": \"USD\", \"label\": \"Net Cash Flow From Financing Activities, Continuing\", \"order\": 800}, \"net_cash_flow_from_operating_activities_continuing\": {\"value\": 39895000000.0, \"unit\": \"USD\", \"label\": \"Net Cash Flow From Operating Activities, Continuing\", \"order\": 200}, \"net_cash_flow_continuing\": {\"value\": 11237000000.0, \"unit\": \"USD\", \"label\": \"Net Cash Flow, Continuing\", \"order\": 1200}, \"net_cash_flow_from_investing_activities_continuing\": {\"value\": 1927000000.0, \"unit\": \"USD\", \"label\": \"Net Cash Flow From Investing Activities, Continuing\", \"order\": 500}, \"net_cash_flow_from_operating_activities\": {\"value\": 39895000000.0, \"unit\": \"USD\", \"label\": \"Net Cash Flow From Operating Activities\", \"order\": 100}, \"net_cash_flow_from_financing_activities\": {\"value\": -30585000000.0, \"unit\": \"USD\", \"label\": \"Net Cash Flow From Financing Activities\", \"order\": 700}, \"net_cash_flow\": {\"value\": 11237000000.0, \"unit\": \"USD\", \"label\": \"Net Cash Flow\", \"order\": 1100}, \"net_cash_flow_from_investing_activities\": {\"value\": 1927000000.0, \"unit\": \"USD\", \"label\": \"Net Cash Flow From Investing Activities\", \"order\": 400}}, \"comprehensive_income\": {\"comprehensive_income_loss_attributable_to_noncontrolling_interest\": {\"value\": 0, \"unit\": \"USD\", \"label\": \"Comprehensive Income/Loss Attributable To Noncontrolling Interest\", \"order\": 200}, \"comprehensive_income_loss_attributable_to_parent\": {\"value\": 35990000000.0, \"unit\": \"USD\", \"label\": \"Comprehensive Income/Loss Attributable To Parent\", \"order\": 300}, \"other_comprehensive_income_loss_attributable_to_parent\": {\"value\": 2074000000.0, \"unit\": \"USD\", \"label\": \"Other Comprehensive Income/Loss Attributable To Parent\", \"order\": 600}, \"other_comprehensive_income_loss\": {\"value\": 35990000000.0, \"unit\": \"USD\", \"label\": \"Other Comprehensive Income/Loss\", \"order\": 400}, \"comprehensive_income_loss\": {\"value\": 35990000000.0, \"unit\": \"USD\", \"label\": \"Comprehensive Income/Loss\", \"order\": 100}}}}, {\"start_date\": \"2023-07-02\", \"end_date\": \"2023-09-30\", \"timeframe\": \"quarterly\", \"fiscal_period\": \"Q4\", \"fiscal_year\": \"2023\", \"cik\": \"0000320193\", \"sic\": \"3571\", \"tickers\": [\"AAPL\"], \"company_name\": \"Apple Inc.\", \"financials\": {\"balance_sheet\": {\"accounts_payable\": {\"value\": 62611000000.0, \"unit\": \"USD\", \"label\": \"Accounts Payable\", \"order\": 710}, \"liabilities\": {\"value\": 290437000000.0, \"unit\": \"USD\", \"label\": \"Liabilities\", \"order\": 600}, \"inventory\": {\"value\": 6331000000.0, \"unit\": \"USD\", \"label\": \"Inventory\", \"order\": 230}, \"assets\": {\"value\": 352583000000.0, \"unit\": \"USD\", \"label\": \"Assets\", \"order\": 100}, \"current_assets\": {\"value\": 143566000000.0, \"unit\": \"USD\", \"label\": \"Current Assets\", \"order\": 200}, \"fixed_assets\": {\"value\": 43715000000.0, \"unit\": \"USD\", \"label\": \"Fixed Assets\", \"order\": 320}, \"noncurrent_assets\": {\"value\": 209017000000.0, \"unit\": \"USD\", \"label\": \"Noncurrent Assets\", \"order\": 300}, \"equity_attributable_to_noncontrolling_interest\": {\"value\": 0, \"unit\": \"USD\", \"label\": \"Equity Attributable To Noncontrolling Interest\", \"order\": 1500}, \"equity_attributable_to_parent\": {\"value\": 62146000000.0, \"unit\": \"USD\", \"label\": \"Equity Attributable To Parent\", \"order\": 1600}, \"other_current_assets\": {\"value\": 137235000000.0, \"unit\": \"USD\", \"label\": \"Other Current Assets\", \"order\": 250}, \"long_term_debt\": {\"value\": 105103000000.0, \"unit\": \"USD\", \"label\": \"Long-term Debt\", \"order\": 810}, \"liabilities_and_equity\": {\"value\": 352583000000.0, \"unit\": \"USD\", \"label\": \"Liabilities And Equity\", \"order\": 1900}, \"noncurrent_liabilities\": {\"value\": 145129000000.0, \"unit\": \"USD\", \"label\": \"Noncurrent Liabilities\", \"order\": 800}, \"current_liabilities\": {\"value\": 145308000000.0, \"unit\": \"USD\", \"label\": \"Current Liabilities\", \"order\": 700}, \"other_noncurrent_liabilities\": {\"value\": 40026000000.0, \"unit\": \"USD\", \"label\": \"Other Non-current Liabilities\", \"order\": 820}, \"other_noncurrent_assets\": {\"value\": 165302000000.0, \"unit\": \"USD\", \"label\": \"Other Non-current Assets\", \"order\": 350}, \"other_current_liabilities\": {\"value\": 82697000000.0, \"unit\": \"USD\", \"label\": \"Other Current Liabilities\", \"order\": 740}, \"equity\": {\"value\": 62146000000.0, \"unit\": \"USD\", \"label\": \"Equity\", \"order\": 1400}}, \"income_statement\": {\"diluted_earnings_per_share\": {\"value\": 1.46, \"unit\": \"USD / shares\", \"label\": \"Diluted Earnings Per Share\", \"order\": 4300}, \"net_income_loss_available_to_common_stockholders_basic\": {\"value\": 22956000000.0, \"unit\": \"USD\", \"label\": \"Net Income/Loss Available To Common Stockholders, Basic\", \"order\": 3700}, \"income_loss_from_continuing_operations_before_tax\": {\"value\": 26998000000.0, \"unit\": \"USD\", \"label\": \"Income/Loss From Continuing Operations Before Tax\", \"order\": 1500}, \"income_tax_expense_benefit\": {\"value\": 4042000000.0, \"unit\": \"USD\", \"label\": \"Income Tax Expense/Benefit\", \"order\": 2200}, \"interest_expense_operating\": {\"value\": 1002000000.0, \"unit\": \"USD\", \"label\": \"Interest Expense, Operating\", \"order\": 2700}, \"income_loss_from_continuing_operations_after_tax\": {\"value\": 22956000000.0, \"unit\": \"USD\", \"label\": \"Income/Loss From Continuing Operations After Tax\", \"order\": 1400}, \"operating_expenses\": {\"value\": 13458000000.0, \"unit\": \"USD\", \"label\": \"Operating Expenses\", \"order\": 1000}, \"basic_earnings_per_share\": {\"value\": 1.4699999999999998, \"unit\": \"USD / shares\", \"label\": \"Basic Earnings Per Share\", \"order\": 4200}, \"research_and_development\": {\"value\": 7307000000.0, \"unit\": \"USD\", \"label\": \"Research and Development\", \"order\": 1030}, \"operating_income_loss\": {\"value\": 26969000000.0, \"unit\": \"USD\", \"label\": \"Operating Income/Loss\", \"order\": 1100}, \"selling_general_and_administrative_expenses\": {\"value\": 6151000000.0, \"unit\": \"USD\", \"label\": \"Selling, General, and Administrative Expenses\", \"order\": 1010}, \"net_income_loss\": {\"value\": 22956000000.0, \"unit\": \"USD\", \"label\": \"Net Income/Loss\", \"order\": 3200}, \"benefits_costs_expenses\": {\"value\": 62500000000.0, \"unit\": \"USD\", \"label\": \"Benefits Costs and Expenses\", \"order\": 200}, \"gross_profit\": {\"value\": 40427000000.0, \"unit\": \"USD\", \"label\": \"Gross Profit\", \"order\": 800}, \"participating_securities_distributed_and_undistributed_earnings_loss_basic\": {\"value\": 0, \"unit\": \"USD\", \"label\": \"Participating Securities, Distributed And Undistributed Earnings/Loss, Basic\", \"order\": 3800}, \"basic_average_shares\": {\"value\": -48266000.0, \"unit\": \"shares\", \"label\": \"Basic Average Shares\", \"order\": 4400}, \"costs_and_expenses\": {\"value\": 62500000000.0, \"unit\": \"USD\", \"label\": \"Costs And Expenses\", \"order\": 600}, \"revenues\": {\"value\": 89498000000.0, \"unit\": \"USD\", \"label\": \"Revenues\", \"order\": 100}, \"nonoperating_income_loss\": {\"value\": 29000000.0, \"unit\": \"USD\", \"label\": \"Nonoperating Income/Loss\", \"order\": 900}, \"cost_of_revenue\": {\"value\": 49071000000.0, \"unit\": \"USD\", \"label\": \"Cost Of Revenue\", \"order\": 300}, \"net_income_loss_attributable_to_parent\": {\"value\": 22956000000.0, \"unit\": \"USD\", \"label\": \"Net Income/Loss Attributable To Parent\", \"order\": 3500}, \"net_income_loss_attributable_to_noncontrolling_interest\": {\"value\": 0, \"unit\": \"USD\", \"label\": \"Net Income/Loss Attributable To Noncontrolling Interest\", \"order\": 3300}, \"preferred_stock_dividends_and_other_adjustments\": {\"value\": 0, \"unit\": \"USD\", \"label\": \"Preferred Stock Dividends And Other Adjustments\", \"order\": 3900}, \"diluted_average_shares\": {\"value\": -46716000.0, \"unit\": \"shares\", \"label\": \"Diluted Average Shares\", \"order\": 4500}}, \"comprehensive_income\": {\"other_comprehensive_income_loss_attributable_to_parent\": {\"value\": 349000000.0, \"unit\": \"USD\", \"label\": \"Other Comprehensive Income/Loss Attributable To Parent\", \"order\": 600}, \"comprehensive_income_loss_attributable_to_noncontrolling_interest\": {\"value\": 0, \"unit\": \"USD\", \"label\": \"Comprehensive Income/Loss Attributable To Noncontrolling Interest\", \"order\": 200}, \"other_comprehensive_income_loss\": {\"value\": 23305000000.0, \"unit\": \"USD\", \"label\": \"Other Comprehensive Income/Loss\", \"order\": 400}, \"comprehensive_income_loss_attributable_to_parent\": {\"value\": 23305000000.0, \"unit\": \"USD\", \"label\": \"Comprehensive Income/Loss Attributable To Parent\", \"order\": 300}, \"comprehensive_income_loss\": {\"value\": 23305000000.0, \"unit\": \"USD\", \"label\": \"Comprehensive Income/Loss\", \"order\": 100}}, \"cash_flow_statement\": {\"net_cash_flow_from_operating_activities_continuing\": {\"value\": 21598000000.0, \"unit\": \"USD\", \"label\": \"Net Cash Flow From Operating Activities, Continuing\", \"order\": 200}, \"net_cash_flow_from_operating_activities\": {\"value\": 21598000000.0, \"unit\": \"USD\", \"label\": \"Net Cash Flow From Operating Activities\", \"order\": 100}, \"net_cash_flow_continuing\": {\"value\": 839000000.0, \"unit\": \"USD\", \"label\": \"Net Cash Flow, Continuing\", \"order\": 1200}, \"net_cash_flow_from_investing_activities_continuing\": {\"value\": 2394000000.0, \"unit\": \"USD\", \"label\": \"Net Cash Flow From Investing Activities, Continuing\", \"order\": 500}, \"net_cash_flow_from_financing_activities_continuing\": {\"value\": -23153000000.0, \"unit\": \"USD\", \"label\": \"Net Cash Flow From Financing Activities, Continuing\", \"order\": 800}, \"net_cash_flow\": {\"value\": 839000000.0, \"unit\": \"USD\", \"label\": \"Net Cash Flow\", \"order\": 1100}, \"net_cash_flow_from_financing_activities\": {\"value\": -23153000000.0, \"unit\": \"USD\", \"label\": \"Net Cash Flow From Financing Activities\", \"order\": 700}, \"net_cash_flow_from_investing_activities\": {\"value\": 2394000000.0, \"unit\": \"USD\", \"label\": \"Net Cash Flow From Investing Activities\", \"order\": 400}}}}, {\"start_date\": \"2022-09-25\", \"end_date\": \"2023-09-30\", \"filing_date\": \"2023-11-03\", \"acceptance_datetime\": \"2023-11-02T22:08:27Z\", \"timeframe\": \"annual\", \"fiscal_period\": \"FY\", \"fiscal_year\": \"2023\", \"cik\": \"0000320193\", \"sic\": \"3571\", \"tickers\": [\"AAPL\"], \"company_name\": \"Apple Inc.\", \"source_filing_url\": \"https://api.polygon.io/v1/reference/sec/filings/0000320193-23-000106\", \"source_filing_file_url\": \"http://api.polygon.io/v1/reference/sec/filings/0000320193-23-000106/files/aapl-20230930_htm.xml\", \"financials\": {\"income_statement\": {\"diluted_earnings_per_share\": {\"value\": 6.13, \"unit\": \"USD / shares\", \"label\": \"Diluted Earnings Per Share\", \"order\": 4300}, \"gross_profit\": {\"value\": 169148000000.0, \"unit\": \"USD\", \"label\": \"Gross Profit\", \"order\": 800}, \"participating_securities_distributed_and_undistributed_earnings_loss_basic\": {\"value\": 0, \"unit\": \"USD\", \"label\": \"Participating Securities, Distributed And Undistributed Earnings/Loss, Basic\", \"order\": 3800}, \"nonoperating_income_loss\": {\"value\": -565000000.0, \"unit\": \"USD\", \"label\": \"Nonoperating Income/Loss\", \"order\": 900}, \"net_income_loss_available_to_common_stockholders_basic\": {\"value\": 96995000000.0, \"unit\": \"USD\", \"label\": \"Net Income/Loss Available To Common Stockholders, Basic\", \"order\": 3700}, \"basic_average_shares\": {\"value\": 15744231000.0, \"unit\": \"shares\", \"label\": \"Basic Average Shares\", \"order\": 4400}, \"cost_of_revenue\": {\"value\": 214137000000.0, \"unit\": \"USD\", \"label\": \"Cost Of Revenue\", \"order\": 300}, \"research_and_development\": {\"value\": 29915000000.0, \"unit\": \"USD\", \"label\": \"Research and Development\", \"order\": 1030}, \"basic_earnings_per_share\": {\"value\": 6.16, \"unit\": \"USD / shares\", \"label\": \"Basic Earnings Per Share\", \"order\": 4200}, \"interest_expense_operating\": {\"value\": 3933000000.0, \"unit\": \"USD\", \"label\": \"Interest Expense, Operating\", \"order\": 2700}, \"operating_income_loss\": {\"value\": 114301000000.0, \"unit\": \"USD\", \"label\": \"Operating Income/Loss\", \"order\": 1100}, \"net_income_loss_attributable_to_parent\": {\"value\": 96995000000.0, \"unit\": \"USD\", \"label\": \"Net Income/Loss Attributable To Parent\", \"order\": 3500}, \"preferred_stock_dividends_and_other_adjustments\": {\"value\": 0, \"unit\": \"USD\", \"label\": \"Preferred Stock Dividends And Other Adjustments\", \"order\": 3900}, \"income_loss_from_continuing_operations_after_tax\": {\"value\": 96995000000.0, \"unit\": \"USD\", \"label\": \"Income/Loss From Continuing Operations After Tax\", \"order\": 1400}, \"net_income_loss\": {\"value\": 96995000000.0, \"unit\": \"USD\", \"label\": \"Net Income/Loss\", \"order\": 3200}, \"revenues\": {\"value\": 383285000000.0, \"unit\": \"USD\", \"label\": \"Revenues\", \"order\": 100}, \"costs_and_expenses\": {\"value\": 269549000000.0, \"unit\": \"USD\", \"label\": \"Costs And Expenses\", \"order\": 600}, \"income_tax_expense_benefit\": {\"value\": 16741000000.0, \"unit\": \"USD\", \"label\": \"Income Tax Expense/Benefit\", \"order\": 2200}, \"diluted_average_shares\": {\"value\": 15812547000.0, \"unit\": \"shares\", \"label\": \"Diluted Average Shares\", \"order\": 4500}, \"income_loss_from_continuing_operations_before_tax\": {\"value\": 113736000000.0, \"unit\": \"USD\", \"label\": \"Income/Loss From Continuing Operations Before Tax\", \"order\": 1500}, \"selling_general_and_administrative_expenses\": {\"value\": 24932000000.0, \"unit\": \"USD\", \"label\": \"Selling, General, and Administrative Expenses\", \"order\": 1010}, \"operating_expenses\": {\"value\": 54847000000.0, \"unit\": \"USD\", \"label\": \"Operating Expenses\", \"order\": 1000}, \"benefits_costs_expenses\": {\"value\": 269549000000.0, \"unit\": \"USD\", \"label\": \"Benefits Costs and Expenses\", \"order\": 200}, \"net_income_loss_attributable_to_noncontrolling_interest\": {\"value\": 0, \"unit\": \"USD\", \"label\": \"Net Income/Loss Attributable To Noncontrolling Interest\", \"order\": 3300}}, \"balance_sheet\": {\"noncurrent_liabilities\": {\"value\": 145129000000.0, \"unit\": \"USD\", \"label\": \"Noncurrent Liabilities\", \"order\": 800}, \"current_liabilities\": {\"value\": 145308000000.0, \"unit\": \"USD\", \"label\": \"Current Liabilities\", \"order\": 700}, \"other_noncurrent_assets\": {\"value\": 165302000000.0, \"unit\": \"USD\", \"label\": \"Other Non-current Assets\", \"order\": 350}, \"equity_attributable_to_noncontrolling_interest\": {\"value\": 0, \"unit\": \"USD\", \"label\": \"Equity Attributable To Noncontrolling Interest\", \"order\": 1500}, \"inventory\": {\"value\": 6331000000.0, \"unit\": \"USD\", \"label\": \"Inventory\", \"order\": 230}, \"other_noncurrent_liabilities\": {\"value\": 40026000000.0, \"unit\": \"USD\", \"label\": \"Other Non-current Liabilities\", \"order\": 820}, \"assets\": {\"value\": 352583000000.0, \"unit\": \"USD\", \"label\": \"Assets\", \"order\": 100}, \"liabilities_and_equity\": {\"value\": 352583000000.0, \"unit\": \"USD\", \"label\": \"Liabilities And Equity\", \"order\": 1900}, \"accounts_payable\": {\"value\": 62611000000.0, \"unit\": \"USD\", \"label\": \"Accounts Payable\", \"order\": 710}, \"current_assets\": {\"value\": 143566000000.0, \"unit\": \"USD\", \"label\": \"Current Assets\", \"order\": 200}, \"liabilities\": {\"value\": 290437000000.0, \"unit\": \"USD\", \"label\": \"Liabilities\", \"order\": 600}, \"fixed_assets\": {\"value\": 43715000000.0, \"unit\": \"USD\", \"label\": \"Fixed Assets\", \"order\": 320}, \"noncurrent_assets\": {\"value\": 209017000000.0, \"unit\": \"USD\", \"label\": \"Noncurrent Assets\", \"order\": 300}, \"equity_attributable_to_parent\": {\"value\": 62146000000.0, \"unit\": \"USD\", \"label\": \"Equity Attributable To Parent\", \"order\": 1600}, \"other_current_assets\": {\"value\": 137235000000.0, \"unit\": \"USD\", \"label\": \"Other Current Assets\", \"order\": 250}, \"equity\": {\"value\": 62146000000.0, \"unit\": \"USD\", \"label\": \"Equity\", \"order\": 1400}, \"long_term_debt\": {\"value\": 105103000000.0, \"unit\": \"USD\", \"label\": \"Long-term Debt\", \"order\": 810}, \"other_current_liabilities\": {\"value\": 82697000000.0, \"unit\": \"USD\", \"label\": \"Other Current Liabilities\", \"order\": 740}}, \"comprehensive_income\": {\"other_comprehensive_income_loss\": {\"value\": 96652000000.0, \"unit\": \"USD\", \"label\": \"Other Comprehensive Income/Loss\", \"order\": 400}, \"comprehensive_income_loss\": {\"value\": 96652000000.0, \"unit\": \"USD\", \"label\": \"Comprehensive Income/Loss\", \"order\": 100}, \"comprehensive_income_loss_attributable_to_noncontrolling_interest\": {\"value\": 0, \"unit\": \"USD\", \"label\": \"Comprehensive Income/Loss Attributable To Noncontrolling Interest\", \"order\": 200}, \"other_comprehensive_income_loss_attributable_to_parent\": {\"value\": -343000000.0, \"unit\": \"USD\", \"label\": \"Other Comprehensive Income/Loss Attributable To Parent\", \"order\": 600}, \"comprehensive_income_loss_attributable_to_parent\": {\"value\": 96652000000.0, \"unit\": \"USD\", \"label\": \"Comprehensive Income/Loss Attributable To Parent\", \"order\": 300}}, \"cash_flow_statement\": {\"net_cash_flow\": {\"value\": 5760000000.0, \"unit\": \"USD\", \"label\": \"Net Cash Flow\", \"order\": 1100}, \"net_cash_flow_from_operating_activities\": {\"value\": 110543000000.0, \"unit\": \"USD\", \"label\": \"Net Cash Flow From Operating Activities\", \"order\": 100}, \"net_cash_flow_from_investing_activities\": {\"value\": 3705000000.0, \"unit\": \"USD\", \"label\": \"Net Cash Flow From Investing Activities\", \"order\": 400}, \"net_cash_flow_continuing\": {\"value\": 5760000000.0, \"unit\": \"USD\", \"label\": \"Net Cash Flow, Continuing\", \"order\": 1200}, \"net_cash_flow_from_operating_activities_continuing\": {\"value\": 110543000000.0, \"unit\": \"USD\", \"label\": \"Net Cash Flow From Operating Activities, Continuing\", \"order\": 200}, \"net_cash_flow_from_financing_activities\": {\"value\": -108488000000.0, \"unit\": \"USD\", \"label\": \"Net Cash Flow From Financing Activities\", \"order\": 700}, \"net_cash_flow_from_investing_activities_continuing\": {\"value\": 3705000000.0, \"unit\": \"USD\", \"label\": \"Net Cash Flow From Investing Activities, Continuing\", \"order\": 500}, \"net_cash_flow_from_financing_activities_continuing\": {\"value\": -108488000000.0, \"unit\": \"USD\", \"label\": \"Net Cash Flow From Financing Activities, Continuing\", \"order\": 800}}}}]' name='polygon_financials' tool_call_id='1'\n"
     ]
    }
   ],
   "source": [
    "from langchain_community.tools.polygon.financials import PolygonFinancials\n",
    "\n",
    "financials_tool = PolygonFinancials(api_wrapper=api_wrapper)\n",
    "\n",
    "# We can invoke directly with input\n",
    "res = financials_tool.invoke({\"query\": \"AAPL\"})\n",
    "\n",
    "model_generated_tool_call = {\n",
    "    \"args\": {\"query\": \"AAPL\"},\n",
    "    \"id\": \"1\",\n",
    "    \"name\": financials_tool.name,\n",
    "    \"type\": \"tool_call\",\n",
    "}\n",
    "\n",
    "# Or we can invoke with a tool call\n",
    "res = financials_tool.invoke(model_generated_tool_call)\n",
    "\n",
    "print(res)"
   ]
  },
  {
   "cell_type": "code",
   "execution_count": 53,
   "id": "7ff07c5a",
   "metadata": {},
   "outputs": [
    {
     "name": "stdout",
     "output_type": "stream",
     "text": [
      "API Key loaded: Yes\n",
      "Google API Key loaded: Yes\n",
      "Fetching data...\n",
      "Result type: <class 'langchain_core.messages.ai.AIMessage'>\n",
      "Result content:\n",
      "content='' additional_kwargs={'function_call': {'name': 'polygon_aggregates', 'arguments': '{\"timespan_multiplier\": 1.0, \"ticker\": \"GOOGL\", \"to_date\": \"2024-05-17\", \"from_date\": \"2024-05-13\", \"timespan\": \"day\"}'}} response_metadata={'prompt_feedback': {'block_reason': 0, 'safety_ratings': []}, 'finish_reason': 'STOP', 'model_name': 'gemini-2.0-flash', 'safety_ratings': []} id='run--f62db56c-598f-4bb1-87d3-23b18f7f9f9b-0' tool_calls=[{'name': 'polygon_aggregates', 'args': {'timespan_multiplier': 1.0, 'ticker': 'GOOGL', 'to_date': '2024-05-17', 'from_date': '2024-05-13', 'timespan': 'day'}, 'id': '64117607-a0b0-4d1d-aeed-8552003ef01e', 'type': 'tool_call'}] usage_metadata={'input_tokens': 408, 'output_tokens': 42, 'total_tokens': 450, 'input_token_details': {'cache_read': 0}}\n",
      "\n",
      "Tool calls detected:\n",
      "Tool: polygon_aggregates\n",
      "Arguments: {'timespan_multiplier': 1.0, 'ticker': 'GOOGL', 'to_date': '2024-05-17', 'from_date': '2024-05-13', 'timespan': 'day'}\n",
      "\n",
      "Directly calling Polygon API...\n",
      "Error occurred: API Error: {'status': 'ERROR', 'request_id': '2e353ba3b6b7cb9f2860175e5abc66f4', 'error': 'Failed to parse path parameters from URL: strconv.ParseInt: parsing \"1.0\": invalid syntax'}\n"
     ]
    }
   ],
   "source": [
    "from langchain_community.agent_toolkits.polygon.toolkit import PolygonToolkit\n",
    "from langchain_community.utilities.polygon import PolygonAPIWrapper\n",
    "from dotenv import load_dotenv\n",
    "import os\n",
    "\n",
    "# Load environment variables and print API key status (don't print the actual key)\n",
    "load_dotenv()\n",
    "polygon_api_key = os.getenv(\"POLYGON_API_KEY\")\n",
    "print(f\"API Key loaded: {'Yes' if polygon_api_key else 'No'}\")\n",
    "\n",
    "# Create API wrapper with explicit error handling\n",
    "try:\n",
    "    api_wrapper = PolygonAPIWrapper()\n",
    "    polygon = PolygonAPIWrapper()\n",
    "    toolkit = PolygonToolkit.from_polygon_api_wrapper(polygon)\n",
    "    from langchain_google_genai import ChatGoogleGenerativeAI\n",
    "    \n",
    "    # Make sure your Google API key is also loaded\n",
    "    google_api_key = os.getenv(\"GOOGLE_API_KEY\")\n",
    "    print(f\"Google API Key loaded: {'Yes' if google_api_key else 'No'}\")\n",
    "    \n",
    "    llm = ChatGoogleGenerativeAI(model=\"gemini-2.0-flash\")\n",
    "    tools = toolkit.get_tools()\n",
    "    llm_with_tools = llm.bind_tools(tools=tools)\n",
    "    \n",
    "    # Execute the query and explicitly print the result\n",
    "    print(\"Fetching data...\")\n",
    "    result = llm_with_tools.invoke(\"fetch daily aggregates for GOOGL for last week\")\n",
    "    print(\"Result type:\", type(result))\n",
    "    print(\"Result content:\")\n",
    "    print(result)\n",
    "    \n",
    "    # If we got a result with tool calls, extract and display the actual data\n",
    "    if hasattr(result, 'tool_calls') and result.tool_calls:\n",
    "        print(\"\\nTool calls detected:\")\n",
    "        for call in result.tool_calls:\n",
    "            print(f\"Tool: {call['name']}\")\n",
    "            print(f\"Arguments: {call['args']}\")\n",
    "            \n",
    "            # If using LangChain's tools directly, you could execute them here\n",
    "            if call['name'] == 'polygon_aggregates':\n",
    "                print(\"\\nDirectly calling Polygon API...\")\n",
    "                direct_result = polygon.get_aggregates(\n",
    "                    ticker=call['args']['ticker'],\n",
    "                    from_date=call['args']['from_date'],\n",
    "                    to_date=call['args']['to_date'],\n",
    "                    timespan=call['args']['timespan'],\n",
    "                    timespan_multiplier=call['args']['timespan_multiplier']\n",
    "                )\n",
    "                print(\"Direct API result:\")\n",
    "                print(direct_result)\n",
    "                \n",
    "except Exception as e:\n",
    "    print(f\"Error occurred: {e}\")"
   ]
  },
  {
   "cell_type": "code",
   "execution_count": 54,
   "id": "a62bd421",
   "metadata": {},
   "outputs": [
    {
     "name": "stdout",
     "output_type": "stream",
     "text": [
      "API Key loaded: Yes\n",
      "Tool execution result:\n",
      "[{\"v\": 31327590.0, \"vw\": 166.9002, \"o\": 164.26, \"c\": 169.14, \"h\": 169.28, \"l\": 164, \"t\": 1715572800000, \"n\": 423074}, {\"v\": 25127138.0, \"vw\": 170.1127, \"o\": 169.77, \"c\": 170.34, \"h\": 171.25, \"l\": 168.8, \"t\": 1715659200000, \"n\": 322375}, {\"v\": 26948370.0, \"vw\": 171.913, \"o\": 170.63, \"c\": 172.51, \"h\": 172.65, \"l\": 170.51, \"t\": 1715745600000, \"n\": 340477}, {\"v\": 27867947.0, \"vw\": 174.158, \"o\": 173.29, \"c\": 174.18, \"h\": 175.115, \"l\": 172.69, \"t\": 1715832000000, \"n\": 319821}, {\"v\": 24479262.0, \"vw\": 175.6884, \"o\": 174.18, \"c\": 176.06, \"h\": 176.265, \"l\": 173.69, \"t\": 1715918400000, \"n\": 277992}]\n"
     ]
    }
   ],
   "source": [
    "from langchain_community.agent_toolkits.polygon.toolkit import PolygonToolkit\n",
    "from langchain_community.utilities.polygon import PolygonAPIWrapper\n",
    "from dotenv import load_dotenv\n",
    "import os\n",
    "\n",
    "load_dotenv()\n",
    "polygon_api_key = os.getenv(\"POLYGON_API_KEY\")\n",
    "print(f\"API Key loaded: {'Yes' if polygon_api_key else 'No'}\")\n",
    "\n",
    "try:\n",
    "    polygon = PolygonAPIWrapper()\n",
    "    toolkit = PolygonToolkit.from_polygon_api_wrapper(polygon)\n",
    "    \n",
    "    # Get the specific aggregates tool\n",
    "    tools = toolkit.get_tools()\n",
    "    agg_tool = next(tool for tool in tools if tool.name == \"polygon_aggregates\")\n",
    "    \n",
    "    # Execute the tool directly with fixed parameters\n",
    "    result = agg_tool.invoke({\n",
    "        \"ticker\": \"GOOGL\",\n",
    "        \"from_date\": \"2024-05-13\",\n",
    "        \"to_date\": \"2024-05-17\",\n",
    "        \"timespan\": \"day\",\n",
    "        \"timespan_multiplier\": 1  # Use integer instead of float\n",
    "    })\n",
    "    \n",
    "    print(\"Tool execution result:\")\n",
    "    print(result)\n",
    "    \n",
    "except Exception as e:\n",
    "    print(f\"Error occurred: {e}\")"
   ]
  },
  {
   "cell_type": "code",
   "execution_count": 55,
   "id": "fbc2a31f",
   "metadata": {},
   "outputs": [
    {
     "name": "stdout",
     "output_type": "stream",
     "text": [
      "API Key loaded: Yes\n",
      "Google API Key loaded: Yes\n",
      "Fetching data...\n",
      "Result type: <class 'langchain_core.messages.ai.AIMessage'>\n",
      "Result content:\n",
      "content='' additional_kwargs={'function_call': {'name': 'polygon_aggregates', 'arguments': '{\"timespan_multiplier\": 1.0, \"ticker\": \"GOOGL\", \"to_date\": \"2024-05-17\", \"from_date\": \"2024-05-13\", \"timespan\": \"day\"}'}} response_metadata={'prompt_feedback': {'block_reason': 0, 'safety_ratings': []}, 'finish_reason': 'STOP', 'model_name': 'gemini-2.0-flash', 'safety_ratings': []} id='run--d2b4e6d0-094e-4a78-b084-4977e3ba9468-0' tool_calls=[{'name': 'polygon_aggregates', 'args': {'timespan_multiplier': 1.0, 'ticker': 'GOOGL', 'to_date': '2024-05-17', 'from_date': '2024-05-13', 'timespan': 'day'}, 'id': 'ed92194b-632f-41ff-ae8b-f0d463baed5c', 'type': 'tool_call'}] usage_metadata={'input_tokens': 408, 'output_tokens': 42, 'total_tokens': 450, 'input_token_details': {'cache_read': 0}}\n",
      "\n",
      "Tool calls detected:\n",
      "Tool: polygon_aggregates\n",
      "Arguments: {'timespan_multiplier': 1.0, 'ticker': 'GOOGL', 'to_date': '2024-05-17', 'from_date': '2024-05-13', 'timespan': 'day'}\n",
      "\n",
      "Directly calling Polygon API...\n",
      "Direct API result:\n",
      "[{'v': 31327590.0, 'vw': 166.9002, 'o': 164.26, 'c': 169.14, 'h': 169.28, 'l': 164, 't': 1715572800000, 'n': 423074}, {'v': 25127138.0, 'vw': 170.1127, 'o': 169.77, 'c': 170.34, 'h': 171.25, 'l': 168.8, 't': 1715659200000, 'n': 322375}, {'v': 26948370.0, 'vw': 171.913, 'o': 170.63, 'c': 172.51, 'h': 172.65, 'l': 170.51, 't': 1715745600000, 'n': 340477}, {'v': 27867947.0, 'vw': 174.158, 'o': 173.29, 'c': 174.18, 'h': 175.115, 'l': 172.69, 't': 1715832000000, 'n': 319821}, {'v': 24479262.0, 'vw': 175.6884, 'o': 174.18, 'c': 176.06, 'h': 176.265, 'l': 173.69, 't': 1715918400000, 'n': 277992}]\n"
     ]
    }
   ],
   "source": [
    "from langchain_community.agent_toolkits.polygon.toolkit import PolygonToolkit\n",
    "from langchain_community.utilities.polygon import PolygonAPIWrapper\n",
    "from dotenv import load_dotenv\n",
    "import os\n",
    "\n",
    "load_dotenv()\n",
    "polygon_api_key = os.getenv(\"POLYGON_API_KEY\")\n",
    "print(f\"API Key loaded: {'Yes' if polygon_api_key else 'No'}\")\n",
    "\n",
    "try:\n",
    "    api_wrapper = PolygonAPIWrapper()\n",
    "    polygon = PolygonAPIWrapper()\n",
    "    toolkit = PolygonToolkit.from_polygon_api_wrapper(polygon)\n",
    "    from langchain_google_genai import ChatGoogleGenerativeAI\n",
    "    \n",
    "    google_api_key = os.getenv(\"GOOGLE_API_KEY\")\n",
    "    print(f\"Google API Key loaded: {'Yes' if google_api_key else 'No'}\")\n",
    "    \n",
    "    llm = ChatGoogleGenerativeAI(model=\"gemini-2.0-flash\")\n",
    "    tools = toolkit.get_tools()\n",
    "    llm_with_tools = llm.bind_tools(tools=tools)\n",
    "    \n",
    "    print(\"Fetching data...\")\n",
    "    result = llm_with_tools.invoke(\"fetch daily aggregates for GOOGL for last week\")\n",
    "    print(\"Result type:\", type(result))\n",
    "    print(\"Result content:\")\n",
    "    print(result)\n",
    "    \n",
    "    if hasattr(result, 'tool_calls') and result.tool_calls:\n",
    "        print(\"\\nTool calls detected:\")\n",
    "        for call in result.tool_calls:\n",
    "            print(f\"Tool: {call['name']}\")\n",
    "            print(f\"Arguments: {call['args']}\")\n",
    "            \n",
    "            if call['name'] == 'polygon_aggregates':\n",
    "                args = call['args']\n",
    "                print(\"\\nDirectly calling Polygon API...\")\n",
    "                \n",
    "                # Convert timespan_multiplier to integer\n",
    "                timespan_multiplier = int(args['timespan_multiplier'])\n",
    "                \n",
    "                direct_result = polygon.get_aggregates(\n",
    "                    ticker=args['ticker'],\n",
    "                    from_date=args['from_date'],\n",
    "                    to_date=args['to_date'],\n",
    "                    timespan=args['timespan'],\n",
    "                    timespan_multiplier=timespan_multiplier  # Use integer instead of float\n",
    "                )\n",
    "                print(\"Direct API result:\")\n",
    "                print(direct_result)\n",
    "                \n",
    "except Exception as e:\n",
    "    print(f\"Error occurred: {e}\")"
   ]
  },
  {
   "cell_type": "code",
   "execution_count": null,
   "id": "794122ab",
   "metadata": {},
   "outputs": [],
   "source": []
  }
 ],
 "metadata": {
  "kernelspec": {
   "display_name": "Python 3",
   "language": "python",
   "name": "python3"
  },
  "language_info": {
   "codemirror_mode": {
    "name": "ipython",
    "version": 3
   },
   "file_extension": ".py",
   "mimetype": "text/x-python",
   "name": "python",
   "nbconvert_exporter": "python",
   "pygments_lexer": "ipython3",
   "version": "3.12.9"
  }
 },
 "nbformat": 4,
 "nbformat_minor": 5
}
