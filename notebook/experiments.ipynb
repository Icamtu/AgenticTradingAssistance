{
 "cells": [
  {
   "cell_type": "code",
   "execution_count": 2,
   "id": "283d3a37",
   "metadata": {},
   "outputs": [],
   "source": [
    "import os\n",
    "import sys\n"
   ]
  },
  {
   "cell_type": "code",
   "execution_count": 1,
   "id": "44b81f5b",
   "metadata": {},
   "outputs": [],
   "source": [
    "class Aclass:\n",
    "    def __init__(self):\n",
    "        print(\"Aclass.__init__()\")\n",
    "    \n",
    "    def __str__(self):\n",
    "        return \"Aclass.__str__()\"\n",
    "    def __repr__(self):\n",
    "        return \"Aclass.__repr__()\""
   ]
  },
  {
   "cell_type": "code",
   "execution_count": 3,
   "id": "f5f55e98",
   "metadata": {},
   "outputs": [
    {
     "name": "stdout",
     "output_type": "stream",
     "text": [
      "Aclass.__init__()\n"
     ]
    }
   ],
   "source": [
    "obj=Aclass()"
   ]
  },
  {
   "cell_type": "code",
   "execution_count": 5,
   "id": "86dc4b71",
   "metadata": {},
   "outputs": [
    {
     "name": "stdout",
     "output_type": "stream",
     "text": [
      "Aclass.__str__()\n"
     ]
    }
   ],
   "source": [
    "print(obj)"
   ]
  },
  {
   "cell_type": "code",
   "execution_count": 4,
   "id": "ecfe4416",
   "metadata": {},
   "outputs": [
    {
     "data": {
      "text/plain": [
       "Aclass.__repr__()"
      ]
     },
     "execution_count": 4,
     "metadata": {},
     "output_type": "execute_result"
    }
   ],
   "source": [
    "obj"
   ]
  },
  {
   "cell_type": "code",
   "execution_count": null,
   "id": "1df58863",
   "metadata": {},
   "outputs": [],
   "source": [
    "class TradingException(Exception):\n",
    "    \"\"\"Base class for all trading-related exceptions.\"\"\"\n",
    "    def __init__(self,error_message,error_deails:sys):\n",
    "        self.error_message=error_message\n",
    "        _,_,exc_tb=error_deails.exc_info()\n",
    "\n",
    "        self.lineno=exc_tb.tb_lineno\n",
    "        self.filename=exc_tb.tb_frame.f_code.co_filename\n",
    "\n",
    "    def __str__(self):\n",
    "        return \"Error occured in python script name [{0}] line number [{1}] error message [{2}]\".format(\n",
    "            self.filename,self.lineno,str(self.error_message)\n",
    "        )\n"
   ]
  }
 ],
 "metadata": {
  "kernelspec": {
   "display_name": "Python 3",
   "language": "python",
   "name": "python3"
  },
  "language_info": {
   "codemirror_mode": {
    "name": "ipython",
    "version": 3
   },
   "file_extension": ".py",
   "mimetype": "text/x-python",
   "name": "python",
   "nbconvert_exporter": "python",
   "pygments_lexer": "ipython3",
   "version": "3.12.9"
  }
 },
 "nbformat": 4,
 "nbformat_minor": 5
}
